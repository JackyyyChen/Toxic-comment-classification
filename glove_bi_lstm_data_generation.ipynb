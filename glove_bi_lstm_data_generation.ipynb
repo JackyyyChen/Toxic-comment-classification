{
 "cells": [
  {
   "cell_type": "code",
   "execution_count": 1,
   "metadata": {
    "colab": {
     "base_uri": "https://localhost:8080/"
    },
    "id": "zWpl-ULo4wkN",
    "outputId": "a340d9fa-a828-4920-9e8f-f3165b3975e0",
    "pycharm": {
     "name": "#%%\n"
    }
   },
   "outputs": [
    {
     "output_type": "stream",
     "name": "stderr",
     "text": [
      "[nltk_data] Downloading package stopwords to /root/nltk_data...\n",
      "[nltk_data]   Unzipping corpora/stopwords.zip.\n",
      "[nltk_data] Downloading package wordnet to /root/nltk_data...\n",
      "[nltk_data] Downloading package omw-1.4 to /root/nltk_data...\n"
     ]
    },
    {
     "output_type": "execute_result",
     "data": {
      "text/plain": [
       "True"
      ]
     },
     "metadata": {},
     "execution_count": 1
    }
   ],
   "source": [
    "import re\n",
    "import numpy as np\n",
    "import pandas as pd\n",
    "import matplotlib.pyplot as plt\n",
    "import torch\n",
    "import torch.nn as nn\n",
    "from torch.utils.data import Dataset, DataLoader\n",
    "import sklearn\n",
    "from sklearn.model_selection import train_test_split\n",
    "import os\n",
    "\n",
    "\n",
    "from nltk.corpus import wordnet\n",
    "from nltk.corpus import stopwords\n",
    "import nltk\n",
    "nltk.download('stopwords')\n",
    "nltk.download('wordnet')\n",
    "nltk.download('omw-1.4')\n"
   ]
  },
  {
   "cell_type": "code",
   "execution_count": 2,
   "metadata": {
    "colab": {
     "base_uri": "https://localhost:8080/"
    },
    "id": "ky3ioaK15muX",
    "outputId": "2e617bc8-0d4f-4251-e85d-2f2406b9477e",
    "pycharm": {
     "name": "#%%\n"
    }
   },
   "outputs": [
    {
     "output_type": "stream",
     "name": "stdout",
     "text": [
      "Mounted at /content/drive\n"
     ]
    }
   ],
   "source": [
    "from google.colab import drive\n",
    "drive.mount('/content/drive')"
   ]
  },
  {
   "cell_type": "code",
   "execution_count": 3,
   "metadata": {
    "id": "9AFfRScq4wkP",
    "pycharm": {
     "name": "#%%\n"
    }
   },
   "outputs": [],
   "source": [
    "def data_cleaning(text):\n",
    "    # 大小写\n",
    "    text = text.replace('\\n', ' ')\n",
    "    text = text.replace('\\r', ' ')\n",
    "    text = text.replace('\\t', ' ')\n",
    "    text = text.replace(\"#\" , \" \")\n",
    "    text = text.replace(\".\" , \"\")\n",
    "    text = text.replace(\"%\", \"\")\n",
    "\n",
    "\n",
    "\n",
    "    text = re.sub('https?://[A-Za-z0-9./]+', '', text)\n",
    "    text = re.sub('http?://[A-Za-z0-9./]+', '', text)\n",
    "    text = re.sub('www.[A-Za-z0-9./]+', '', text)\n",
    "    text = re.sub(\"\\d+\", \"\", text)\n",
    "    text = re.sub(\"!+\", \"!\", text)\n",
    "\n",
    "#     text = '!'.join(unique_list(text.split('!')))\n",
    "    text = re.sub(r'((\\b\\w+\\b.{1,2}\\w+\\b)+).+\\1', r'\\1', text, flags = re.I)\n",
    "    encoded_string = text.encode(\"ascii\", \"ignore\")\n",
    "    decode_string = encoded_string.decode()\n",
    "    return decode_string"
   ]
  },
  {
   "cell_type": "code",
   "execution_count": 35,
   "metadata": {
    "colab": {
     "base_uri": "https://localhost:8080/"
    },
    "id": "WBbpqH6F4wkQ",
    "outputId": "856d00ab-5cce-456f-80c8-80380f241ab9",
    "pycharm": {
     "name": "#%%\n"
    }
   },
   "outputs": [
    {
     "output_type": "stream",
     "name": "stdout",
     "text": [
      "/content\n"
     ]
    }
   ],
   "source": [
    "!pwd\n",
    "#data_folder_path = './data/'\n",
    "data_folder_path = '/content/drive/MyDrive/toxic-comment-classification/data/'\n",
    "df = pd.read_csv(data_folder_path + 'train.csv')\n",
    "test_text = pd.read_csv(data_folder_path + 'test.csv')\n",
    "test_label = pd.read_csv(data_folder_path + 'test_labels.csv')\n",
    "test_df = pd.concat([test_text, test_label], axis=1)\n",
    "classes = ['toxic', 'severe_toxic', 'obscene', 'threat', 'insult', 'identity_hate']"
   ]
  },
  {
   "cell_type": "code",
   "execution_count": 36,
   "metadata": {
    "id": "DlS3y6YH4wkR",
    "pycharm": {
     "name": "#%%\n"
    }
   },
   "outputs": [],
   "source": [
    "df['comment_text'] = df['comment_text'].apply(data_cleaning)\n",
    "test_df['comment_text'] = test_df['comment_text'].apply(data_cleaning)"
   ]
  },
  {
   "cell_type": "code",
   "execution_count": 6,
   "metadata": {
    "colab": {
     "base_uri": "https://localhost:8080/",
     "height": 244
    },
    "id": "tiT6zWoq4wkR",
    "outputId": "0382eefd-983d-4929-ba50-223a1a078dc3",
    "pycharm": {
     "name": "#%%\n"
    }
   },
   "outputs": [
    {
     "output_type": "execute_result",
     "data": {
      "text/plain": [
       "\"\\ntoxic_df = df[(df['toxic'] == 1) | (df['severe_toxic'] == 1) | (df['obscene'] == 1) | (df['threat'] == 1) | (df['insult'] == 1) | (df['identity_hate'] == 1)]\\nnon_toxic_df = df[(df['toxic'] == 0) & (df['severe_toxic'] == 0) & (df['obscene'] == 0) & (df['threat'] == 0) & (df['insult'] == 0) & (df['identity_hate'] == 0)]\\n\\nreplacement_rate =0.3\\n##  synonym replacement\\naug_toxic_df = toxic_df.copy(True)\\nfor i, row in toxic_df.iterrows():\\n    comment = row['comment_text']\\n    words = comment.split()\\n    new_comment = ''\\n    new_words = []\\n    for word in words:\\n        if word in stopwords.words('english'):\\n            new_words.append(word)\\n            continue\\n\\n        random_rate = np.random.uniform(0, 1)\\n\\n        if random_rate < replacement_rate:\\n            synonyms = []\\n            for syn in wordnet.synsets(word):\\n                for l in syn.lemmas():\\n                    synonyms.append(l.name())\\n            if len(synonyms) > 0:\\n                new_word = synonyms[np.random.randint(0, len(synonyms))]\\n                new_words.append(new_word)\\n            else:\\n                new_words.append(word)\\n\\n\\n        else:\\n            new_words.append(word)\\n    new_comment = ' '.join(new_words)\\n    new_row = row.copy(True)\\n    new_row['comment_text'] = new_comment\\n    aug_toxic_df = aug_toxic_df.append(new_row, ignore_index=True)\\n    \\ndf = pd.concat([aug_toxic_df, non_toxic_df], ignore_index=True)\\ndf = df.sample(frac=1).reset_index(drop=True)\\n\""
      ],
      "application/vnd.google.colaboratory.intrinsic+json": {
       "type": "string"
      }
     },
     "metadata": {},
     "execution_count": 6
    }
   ],
   "source": [
    "'''\n",
    "toxic_df = df[(df['toxic'] == 1) | (df['severe_toxic'] == 1) | (df['obscene'] == 1) | (df['threat'] == 1) | (df['insult'] == 1) | (df['identity_hate'] == 1)]\n",
    "non_toxic_df = df[(df['toxic'] == 0) & (df['severe_toxic'] == 0) & (df['obscene'] == 0) & (df['threat'] == 0) & (df['insult'] == 0) & (df['identity_hate'] == 0)]\n",
    "\n",
    "replacement_rate =0.3\n",
    "##  synonym replacement\n",
    "aug_toxic_df = toxic_df.copy(True)\n",
    "for i, row in toxic_df.iterrows():\n",
    "    comment = row['comment_text']\n",
    "    words = comment.split()\n",
    "    new_comment = ''\n",
    "    new_words = []\n",
    "    for word in words:\n",
    "        if word in stopwords.words('english'):\n",
    "            new_words.append(word)\n",
    "            continue\n",
    "\n",
    "        random_rate = np.random.uniform(0, 1)\n",
    "\n",
    "        if random_rate < replacement_rate:\n",
    "            synonyms = []\n",
    "            for syn in wordnet.synsets(word):\n",
    "                for l in syn.lemmas():\n",
    "                    synonyms.append(l.name())\n",
    "            if len(synonyms) > 0:\n",
    "                new_word = synonyms[np.random.randint(0, len(synonyms))]\n",
    "                new_words.append(new_word)\n",
    "            else:\n",
    "                new_words.append(word)\n",
    "\n",
    "\n",
    "        else:\n",
    "            new_words.append(word)\n",
    "    new_comment = ' '.join(new_words)\n",
    "    new_row = row.copy(True)\n",
    "    new_row['comment_text'] = new_comment\n",
    "    aug_toxic_df = aug_toxic_df.append(new_row, ignore_index=True)\n",
    "    \n",
    "df = pd.concat([aug_toxic_df, non_toxic_df], ignore_index=True)\n",
    "df = df.sample(frac=1).reset_index(drop=True)\n",
    "'''"
   ]
  },
  {
   "cell_type": "code",
   "execution_count": 6,
   "metadata": {
    "id": "NY8GQsE44wkT",
    "pycharm": {
     "name": "#%%\n"
    }
   },
   "outputs": [],
   "source": [
    "\n"
   ]
  },
  {
   "cell_type": "code",
   "execution_count": 37,
   "metadata": {
    "id": "UTP_iEjj4wkU",
    "colab": {
     "base_uri": "https://localhost:8080/",
     "height": 496
    },
    "outputId": "48021eb6-4c43-44f9-8a19-137aa2e95f55",
    "pycharm": {
     "name": "#%%\n"
    }
   },
   "outputs": [
    {
     "output_type": "execute_result",
     "data": {
      "text/plain": [
       "                  id                                       comment_text  \\\n",
       "5   0001ea8717f6de06  Thank you for understanding I think very highl...   \n",
       "7   000247e83dcc1211                    :Dear god this site is horrible   \n",
       "11  0002f87b16116a7f  \"::: Somebody will invariably try to add Relig...   \n",
       "13  0003e1cccfd5a40a  \"      It says it even in Binghamton Universit...   \n",
       "14  00059ace3e3e9a53  \"      == Before adding a new product to the l...   \n",
       "\n",
       "                  id  toxic  severe_toxic  obscene  threat  insult  \\\n",
       "5   0001ea8717f6de06      0             0        0       0       0   \n",
       "7   000247e83dcc1211      0             0        0       0       0   \n",
       "11  0002f87b16116a7f      0             0        0       0       0   \n",
       "13  0003e1cccfd5a40a      0             0        0       0       0   \n",
       "14  00059ace3e3e9a53      0             0        0       0       0   \n",
       "\n",
       "    identity_hate  \n",
       "5               0  \n",
       "7               0  \n",
       "11              0  \n",
       "13              0  \n",
       "14              0  "
      ],
      "text/html": [
       "\n",
       "  <div id=\"df-4f99a232-cadb-40e2-a4c3-19b22f9ea847\">\n",
       "    <div class=\"colab-df-container\">\n",
       "      <div>\n",
       "<style scoped>\n",
       "    .dataframe tbody tr th:only-of-type {\n",
       "        vertical-align: middle;\n",
       "    }\n",
       "\n",
       "    .dataframe tbody tr th {\n",
       "        vertical-align: top;\n",
       "    }\n",
       "\n",
       "    .dataframe thead th {\n",
       "        text-align: right;\n",
       "    }\n",
       "</style>\n",
       "<table border=\"1\" class=\"dataframe\">\n",
       "  <thead>\n",
       "    <tr style=\"text-align: right;\">\n",
       "      <th></th>\n",
       "      <th>id</th>\n",
       "      <th>comment_text</th>\n",
       "      <th>id</th>\n",
       "      <th>toxic</th>\n",
       "      <th>severe_toxic</th>\n",
       "      <th>obscene</th>\n",
       "      <th>threat</th>\n",
       "      <th>insult</th>\n",
       "      <th>identity_hate</th>\n",
       "    </tr>\n",
       "  </thead>\n",
       "  <tbody>\n",
       "    <tr>\n",
       "      <th>5</th>\n",
       "      <td>0001ea8717f6de06</td>\n",
       "      <td>Thank you for understanding I think very highl...</td>\n",
       "      <td>0001ea8717f6de06</td>\n",
       "      <td>0</td>\n",
       "      <td>0</td>\n",
       "      <td>0</td>\n",
       "      <td>0</td>\n",
       "      <td>0</td>\n",
       "      <td>0</td>\n",
       "    </tr>\n",
       "    <tr>\n",
       "      <th>7</th>\n",
       "      <td>000247e83dcc1211</td>\n",
       "      <td>:Dear god this site is horrible</td>\n",
       "      <td>000247e83dcc1211</td>\n",
       "      <td>0</td>\n",
       "      <td>0</td>\n",
       "      <td>0</td>\n",
       "      <td>0</td>\n",
       "      <td>0</td>\n",
       "      <td>0</td>\n",
       "    </tr>\n",
       "    <tr>\n",
       "      <th>11</th>\n",
       "      <td>0002f87b16116a7f</td>\n",
       "      <td>\"::: Somebody will invariably try to add Relig...</td>\n",
       "      <td>0002f87b16116a7f</td>\n",
       "      <td>0</td>\n",
       "      <td>0</td>\n",
       "      <td>0</td>\n",
       "      <td>0</td>\n",
       "      <td>0</td>\n",
       "      <td>0</td>\n",
       "    </tr>\n",
       "    <tr>\n",
       "      <th>13</th>\n",
       "      <td>0003e1cccfd5a40a</td>\n",
       "      <td>\"      It says it even in Binghamton Universit...</td>\n",
       "      <td>0003e1cccfd5a40a</td>\n",
       "      <td>0</td>\n",
       "      <td>0</td>\n",
       "      <td>0</td>\n",
       "      <td>0</td>\n",
       "      <td>0</td>\n",
       "      <td>0</td>\n",
       "    </tr>\n",
       "    <tr>\n",
       "      <th>14</th>\n",
       "      <td>00059ace3e3e9a53</td>\n",
       "      <td>\"      == Before adding a new product to the l...</td>\n",
       "      <td>00059ace3e3e9a53</td>\n",
       "      <td>0</td>\n",
       "      <td>0</td>\n",
       "      <td>0</td>\n",
       "      <td>0</td>\n",
       "      <td>0</td>\n",
       "      <td>0</td>\n",
       "    </tr>\n",
       "  </tbody>\n",
       "</table>\n",
       "</div>\n",
       "      <button class=\"colab-df-convert\" onclick=\"convertToInteractive('df-4f99a232-cadb-40e2-a4c3-19b22f9ea847')\"\n",
       "              title=\"Convert this dataframe to an interactive table.\"\n",
       "              style=\"display:none;\">\n",
       "        \n",
       "  <svg xmlns=\"http://www.w3.org/2000/svg\" height=\"24px\"viewBox=\"0 0 24 24\"\n",
       "       width=\"24px\">\n",
       "    <path d=\"M0 0h24v24H0V0z\" fill=\"none\"/>\n",
       "    <path d=\"M18.56 5.44l.94 2.06.94-2.06 2.06-.94-2.06-.94-.94-2.06-.94 2.06-2.06.94zm-11 1L8.5 8.5l.94-2.06 2.06-.94-2.06-.94L8.5 2.5l-.94 2.06-2.06.94zm10 10l.94 2.06.94-2.06 2.06-.94-2.06-.94-.94-2.06-.94 2.06-2.06.94z\"/><path d=\"M17.41 7.96l-1.37-1.37c-.4-.4-.92-.59-1.43-.59-.52 0-1.04.2-1.43.59L10.3 9.45l-7.72 7.72c-.78.78-.78 2.05 0 2.83L4 21.41c.39.39.9.59 1.41.59.51 0 1.02-.2 1.41-.59l7.78-7.78 2.81-2.81c.8-.78.8-2.07 0-2.86zM5.41 20L4 18.59l7.72-7.72 1.47 1.35L5.41 20z\"/>\n",
       "  </svg>\n",
       "      </button>\n",
       "      \n",
       "  <style>\n",
       "    .colab-df-container {\n",
       "      display:flex;\n",
       "      flex-wrap:wrap;\n",
       "      gap: 12px;\n",
       "    }\n",
       "\n",
       "    .colab-df-convert {\n",
       "      background-color: #E8F0FE;\n",
       "      border: none;\n",
       "      border-radius: 50%;\n",
       "      cursor: pointer;\n",
       "      display: none;\n",
       "      fill: #1967D2;\n",
       "      height: 32px;\n",
       "      padding: 0 0 0 0;\n",
       "      width: 32px;\n",
       "    }\n",
       "\n",
       "    .colab-df-convert:hover {\n",
       "      background-color: #E2EBFA;\n",
       "      box-shadow: 0px 1px 2px rgba(60, 64, 67, 0.3), 0px 1px 3px 1px rgba(60, 64, 67, 0.15);\n",
       "      fill: #174EA6;\n",
       "    }\n",
       "\n",
       "    [theme=dark] .colab-df-convert {\n",
       "      background-color: #3B4455;\n",
       "      fill: #D2E3FC;\n",
       "    }\n",
       "\n",
       "    [theme=dark] .colab-df-convert:hover {\n",
       "      background-color: #434B5C;\n",
       "      box-shadow: 0px 1px 3px 1px rgba(0, 0, 0, 0.15);\n",
       "      filter: drop-shadow(0px 1px 2px rgba(0, 0, 0, 0.3));\n",
       "      fill: #FFFFFF;\n",
       "    }\n",
       "  </style>\n",
       "\n",
       "      <script>\n",
       "        const buttonEl =\n",
       "          document.querySelector('#df-4f99a232-cadb-40e2-a4c3-19b22f9ea847 button.colab-df-convert');\n",
       "        buttonEl.style.display =\n",
       "          google.colab.kernel.accessAllowed ? 'block' : 'none';\n",
       "\n",
       "        async function convertToInteractive(key) {\n",
       "          const element = document.querySelector('#df-4f99a232-cadb-40e2-a4c3-19b22f9ea847');\n",
       "          const dataTable =\n",
       "            await google.colab.kernel.invokeFunction('convertToInteractive',\n",
       "                                                     [key], {});\n",
       "          if (!dataTable) return;\n",
       "\n",
       "          const docLinkHtml = 'Like what you see? Visit the ' +\n",
       "            '<a target=\"_blank\" href=https://colab.research.google.com/notebooks/data_table.ipynb>data table notebook</a>'\n",
       "            + ' to learn more about interactive tables.';\n",
       "          element.innerHTML = '';\n",
       "          dataTable['output_type'] = 'display_data';\n",
       "          await google.colab.output.renderOutput(dataTable, element);\n",
       "          const docLink = document.createElement('div');\n",
       "          docLink.innerHTML = docLinkHtml;\n",
       "          element.appendChild(docLink);\n",
       "        }\n",
       "      </script>\n",
       "    </div>\n",
       "  </div>\n",
       "  "
      ]
     },
     "metadata": {},
     "execution_count": 37
    }
   ],
   "source": [
    "test_df[0:20]\n",
    "ids_to_drop = []\n",
    "for i in range(len(test_df)):\n",
    "    if test_df['toxic'][i] == -1 or test_df['severe_toxic'][i] == -1 or test_df['obscene'][i] == -1 or test_df['threat'][i] == -1 or test_df['insult'][i] == -1 or test_df['identity_hate'][i] == -1:\n",
    "        ids_to_drop.append(i)\n",
    "\n",
    "test_df = test_df.drop(ids_to_drop)\n",
    "\n",
    "test_df.head()"
   ]
  },
  {
   "cell_type": "code",
   "execution_count": 8,
   "metadata": {
    "id": "7CjVTGca4wkV",
    "pycharm": {
     "name": "#%%\n"
    }
   },
   "outputs": [],
   "source": [
    "from torchtext.data.utils import get_tokenizer\n",
    "from torchtext.vocab import build_vocab_from_iterator"
   ]
  },
  {
   "cell_type": "code",
   "execution_count": 8,
   "metadata": {
    "id": "x4DreJgU4wkV",
    "pycharm": {
     "name": "#%%\n"
    }
   },
   "outputs": [],
   "source": []
  },
  {
   "cell_type": "code",
   "execution_count": 8,
   "metadata": {
    "id": "3Rurae9N4wkW",
    "pycharm": {
     "name": "#%%\n"
    }
   },
   "outputs": [],
   "source": []
  },
  {
   "cell_type": "code",
   "execution_count": 9,
   "metadata": {
    "id": "c2DVXWNy4wkW",
    "colab": {
     "base_uri": "https://localhost:8080/"
    },
    "outputId": "9f55ca70-8460-4622-ca08-52027201de53",
    "pycharm": {
     "name": "#%%\n"
    }
   },
   "outputs": [
    {
     "output_type": "stream",
     "name": "stderr",
     "text": [
      "./.vector_cache/glove.twitter.27B.zip: 1.52GB [04:45, 5.33MB/s]                            \n",
      "100%|█████████▉| 1193513/1193514 [01:13<00:00, 16334.11it/s]\n"
     ]
    },
    {
     "output_type": "stream",
     "name": "stdout",
     "text": [
      "1193514\n",
      "torch.Size([1193515, 200])\n"
     ]
    }
   ],
   "source": [
    "from torchtext.vocab import GloVe, vocab\n",
    "\n",
    "unk_token = \"<pad>\"\n",
    "unk_index = 0\n",
    "#name = \"vector_cache\"\n",
    "\n",
    "\n",
    "if os.path.isdir(\"/content/drive/MyDrive/toxic-comment-classification/.vector_cache\"):\n",
    "    glove_vectors = GloVe(name = 'twitter.27B', cache = './.vector_cache', dim=200)\n",
    "else:    \n",
    "    glove_vectors = GloVe('twitter.27B', dim=200)\n",
    "print(len(glove_vectors.stoi))\n",
    "glove_vocab = vocab(glove_vectors.stoi)\n",
    "glove_vocab.insert_token(\"<pad>\",unk_index)\n",
    "#this is necessary otherwise it will throw runtime error if OOV token is queried\n",
    "glove_vocab.set_default_index(unk_index)\n",
    "pretrained_embeddings = glove_vectors.vectors\n",
    "pretrained_embeddings = torch.cat((torch.zeros(1,pretrained_embeddings.shape[1]),pretrained_embeddings))\n",
    "print(pretrained_embeddings.shape)\n"
   ]
  },
  {
   "cell_type": "code",
   "source": [
    "import torch\n",
    "import pandas as pd\n",
    "from collections import Counter\n",
    "\n",
    "class Dataset(torch.utils.data.Dataset):\n",
    "    def __init__(\n",
    "        self,\n",
    "        data_frame,\n",
    "        sequence_length,\n",
    "    ):\n",
    "        #self.args = args\n",
    "        self.sequence_length = sequence_length\n",
    "        self.train_df = data_frame\n",
    "        self.words = self.load_words()\n",
    "        self.uniq_words = self.get_uniq_words()\n",
    "\n",
    "        self.index_to_word = {index: word for index, word in enumerate(self.uniq_words)}\n",
    "        self.word_to_index = {word: index for index, word in enumerate(self.uniq_words)}\n",
    "\n",
    "        self.words_indexes = [self.word_to_index[w] for w in self.words]\n",
    "    \n",
    "    def load_words(self):\n",
    "        #train_df = pd.read_csv('data/reddit-cleanjokes.csv')\n",
    "        text = self.train_df['comment_text'].str.cat(sep=' ')\n",
    "        return text.split(' ')\n",
    "\n",
    "    def get_uniq_words(self):\n",
    "        word_counts = Counter(self.words)\n",
    "        return sorted(word_counts, key=word_counts.get, reverse=True)\n",
    "\n",
    "    def __len__(self):\n",
    "        return len(self.words_indexes) - self.sequence_length\n",
    "\n",
    "    def __getitem__(self, index):\n",
    "        return (\n",
    "            torch.tensor(self.words_indexes[index:index+self.sequence_length]),\n",
    "            torch.tensor(self.words_indexes[index+1:index+self.sequence_length+1]),\n",
    "        )"
   ],
   "metadata": {
    "id": "bqiqMIL5AR0x",
    "pycharm": {
     "name": "#%%\n"
    }
   },
   "execution_count": 10,
   "outputs": []
  },
  {
   "cell_type": "code",
   "source": [
    "dataset = Dataset(df, 3)"
   ],
   "metadata": {
    "id": "-DojgkzAGBGt",
    "pycharm": {
     "name": "#%%\n"
    }
   },
   "execution_count": 11,
   "outputs": []
  },
  {
   "cell_type": "code",
   "source": [
    "import torch\n",
    "from torch import nn\n",
    "\n",
    "class Model(nn.Module):\n",
    "    def __init__(self, dataset):\n",
    "        super(Model, self).__init__()\n",
    "        self.lstm_size = 128\n",
    "        self.embedding_dim = 128\n",
    "        self.num_layers = 3\n",
    "\n",
    "        n_vocab = len(dataset.uniq_words)\n",
    "        self.embedding = nn.Embedding(\n",
    "            num_embeddings=n_vocab,\n",
    "            embedding_dim=self.embedding_dim,\n",
    "        )\n",
    "        self.lstm = nn.LSTM(\n",
    "            input_size=self.lstm_size,\n",
    "            hidden_size=self.lstm_size,\n",
    "            num_layers=self.num_layers,\n",
    "            dropout=0.2,\n",
    "        )\n",
    "        self.fc = nn.Linear(self.lstm_size, n_vocab)\n",
    "    \n",
    "    def forward(self, x, prev_state):\n",
    "      embed = self.embedding(x)\n",
    "      output, state = self.lstm(embed, prev_state)\n",
    "      logits = self.fc(output)\n",
    "      return logits, state\n",
    "\n",
    "    def init_state(self, sequence_length):\n",
    "        return (torch.zeros(self.num_layers, sequence_length, self.lstm_size),\n",
    "                torch.zeros(self.num_layers, sequence_length, self.lstm_size))\n"
   ],
   "metadata": {
    "id": "CeWVOeb5IG8c",
    "pycharm": {
     "name": "#%%\n"
    }
   },
   "execution_count": 12,
   "outputs": []
  },
  {
   "cell_type": "code",
   "source": [
    "import argparse\n",
    "import torch\n",
    "import numpy as np\n",
    "from torch import nn, optim\n",
    "from torch.utils.data import DataLoader\n",
    "\n",
    "def train(dataset, model):\n",
    "    model.train()\n",
    "\n",
    "    dataloader = DataLoader(dataset, batch_size=256)\n",
    "    criterion = nn.CrossEntropyLoss()\n",
    "    optimizer = optim.Adam(model.parameters(), lr=0.001)\n",
    "\n",
    "    for epoch in range(2):\n",
    "        state_h, state_c = model.init_state(3)\n",
    "\n",
    "        for batch, (x, y) in enumerate(dataloader):\n",
    "            optimizer.zero_grad()\n",
    "\n",
    "            y_pred, (state_h, state_c) = model(x, (state_h, state_c))\n",
    "            loss = criterion(y_pred.transpose(1, 2), y)\n",
    "\n",
    "            state_h = state_h.detach()\n",
    "            state_c = state_c.detach()\n",
    "\n",
    "            loss.backward()\n",
    "            optimizer.step()\n",
    "\n",
    "            print({ 'epoch': epoch, 'batch': batch, 'loss': loss.item() })"
   ],
   "metadata": {
    "id": "O9J7HTbHISy-",
    "pycharm": {
     "name": "#%%\n"
    }
   },
   "execution_count": 13,
   "outputs": []
  },
  {
   "cell_type": "code",
   "source": [
    "\n",
    "\n",
    "model = Model(dataset)\n",
    "\n",
    "train(dataset, model)\n",
    "#print(predict(dataset, model, text='Knock knock. Whos there?'))"
   ],
   "metadata": {
    "colab": {
     "base_uri": "https://localhost:8080/",
     "height": 1000
    },
    "id": "oWk_DlUoIsBX",
    "outputId": "ad231433-da44-4bd3-dc48-4410d8f6cdb6",
    "pycharm": {
     "name": "#%%\n"
    }
   },
   "execution_count": 14,
   "outputs": [
    {
     "output_type": "stream",
     "name": "stdout",
     "text": [
      "{'epoch': 0, 'batch': 0, 'loss': 12.532023429870605}\n",
      "{'epoch': 0, 'batch': 1, 'loss': 12.525912284851074}\n",
      "{'epoch': 0, 'batch': 2, 'loss': 12.510509490966797}\n",
      "{'epoch': 0, 'batch': 3, 'loss': 12.495269775390625}\n",
      "{'epoch': 0, 'batch': 4, 'loss': 12.481305122375488}\n",
      "{'epoch': 0, 'batch': 5, 'loss': 12.48913860321045}\n",
      "{'epoch': 0, 'batch': 6, 'loss': 12.459647178649902}\n",
      "{'epoch': 0, 'batch': 7, 'loss': 12.404488563537598}\n",
      "{'epoch': 0, 'batch': 8, 'loss': 12.3687162399292}\n",
      "{'epoch': 0, 'batch': 9, 'loss': 12.299186706542969}\n",
      "{'epoch': 0, 'batch': 10, 'loss': 12.16001033782959}\n",
      "{'epoch': 0, 'batch': 11, 'loss': 11.890575408935547}\n",
      "{'epoch': 0, 'batch': 12, 'loss': 11.862200736999512}\n",
      "{'epoch': 0, 'batch': 13, 'loss': 11.611714363098145}\n",
      "{'epoch': 0, 'batch': 14, 'loss': 11.305839538574219}\n",
      "{'epoch': 0, 'batch': 15, 'loss': 11.272300720214844}\n",
      "{'epoch': 0, 'batch': 16, 'loss': 9.589383125305176}\n",
      "{'epoch': 0, 'batch': 17, 'loss': 6.73863410949707}\n",
      "{'epoch': 0, 'batch': 18, 'loss': 6.483482360839844}\n",
      "{'epoch': 0, 'batch': 19, 'loss': 9.144590377807617}\n",
      "{'epoch': 0, 'batch': 20, 'loss': 10.510293960571289}\n",
      "{'epoch': 0, 'batch': 21, 'loss': 10.04301643371582}\n",
      "{'epoch': 0, 'batch': 22, 'loss': 9.736220359802246}\n",
      "{'epoch': 0, 'batch': 23, 'loss': 9.62375545501709}\n",
      "{'epoch': 0, 'batch': 24, 'loss': 9.250462532043457}\n",
      "{'epoch': 0, 'batch': 25, 'loss': 9.447553634643555}\n",
      "{'epoch': 0, 'batch': 26, 'loss': 9.752730369567871}\n",
      "{'epoch': 0, 'batch': 27, 'loss': 8.846190452575684}\n",
      "{'epoch': 0, 'batch': 28, 'loss': 9.149606704711914}\n",
      "{'epoch': 0, 'batch': 29, 'loss': 9.044941902160645}\n",
      "{'epoch': 0, 'batch': 30, 'loss': 8.954833984375}\n",
      "{'epoch': 0, 'batch': 31, 'loss': 8.513160705566406}\n",
      "{'epoch': 0, 'batch': 32, 'loss': 8.233263969421387}\n",
      "{'epoch': 0, 'batch': 33, 'loss': 8.117571830749512}\n",
      "{'epoch': 0, 'batch': 34, 'loss': 8.671287536621094}\n",
      "{'epoch': 0, 'batch': 35, 'loss': 8.335251808166504}\n",
      "{'epoch': 0, 'batch': 36, 'loss': 8.521492004394531}\n",
      "{'epoch': 0, 'batch': 37, 'loss': 7.800559997558594}\n",
      "{'epoch': 0, 'batch': 38, 'loss': 8.302546501159668}\n",
      "{'epoch': 0, 'batch': 39, 'loss': 8.643815994262695}\n",
      "{'epoch': 0, 'batch': 40, 'loss': 8.009820938110352}\n",
      "{'epoch': 0, 'batch': 41, 'loss': 8.234845161437988}\n",
      "{'epoch': 0, 'batch': 42, 'loss': 7.756227970123291}\n",
      "{'epoch': 0, 'batch': 43, 'loss': 7.484983444213867}\n",
      "{'epoch': 0, 'batch': 44, 'loss': 8.87818431854248}\n",
      "{'epoch': 0, 'batch': 45, 'loss': 8.512248992919922}\n",
      "{'epoch': 0, 'batch': 46, 'loss': 8.645259857177734}\n",
      "{'epoch': 0, 'batch': 47, 'loss': 8.421746253967285}\n",
      "{'epoch': 0, 'batch': 48, 'loss': 7.452581405639648}\n",
      "{'epoch': 0, 'batch': 49, 'loss': 8.274653434753418}\n",
      "{'epoch': 0, 'batch': 50, 'loss': 8.315991401672363}\n",
      "{'epoch': 0, 'batch': 51, 'loss': 8.040504455566406}\n",
      "{'epoch': 0, 'batch': 52, 'loss': 7.143003463745117}\n",
      "{'epoch': 0, 'batch': 53, 'loss': 8.079421997070312}\n",
      "{'epoch': 0, 'batch': 54, 'loss': 7.072561740875244}\n",
      "{'epoch': 0, 'batch': 55, 'loss': 8.052597999572754}\n",
      "{'epoch': 0, 'batch': 56, 'loss': 7.991472244262695}\n",
      "{'epoch': 0, 'batch': 57, 'loss': 8.398301124572754}\n",
      "{'epoch': 0, 'batch': 58, 'loss': 8.496928215026855}\n",
      "{'epoch': 0, 'batch': 59, 'loss': 8.289932250976562}\n",
      "{'epoch': 0, 'batch': 60, 'loss': 8.309618949890137}\n",
      "{'epoch': 0, 'batch': 61, 'loss': 8.006158828735352}\n",
      "{'epoch': 0, 'batch': 62, 'loss': 8.837028503417969}\n",
      "{'epoch': 0, 'batch': 63, 'loss': 8.111411094665527}\n",
      "{'epoch': 0, 'batch': 64, 'loss': 7.644917964935303}\n",
      "{'epoch': 0, 'batch': 65, 'loss': 8.635855674743652}\n",
      "{'epoch': 0, 'batch': 66, 'loss': 7.323148727416992}\n",
      "{'epoch': 0, 'batch': 67, 'loss': 7.896352767944336}\n",
      "{'epoch': 0, 'batch': 68, 'loss': 7.967115879058838}\n",
      "{'epoch': 0, 'batch': 69, 'loss': 7.844226360321045}\n",
      "{'epoch': 0, 'batch': 70, 'loss': 7.956346035003662}\n",
      "{'epoch': 0, 'batch': 71, 'loss': 8.256418228149414}\n",
      "{'epoch': 0, 'batch': 72, 'loss': 7.986488342285156}\n",
      "{'epoch': 0, 'batch': 73, 'loss': 7.925111293792725}\n",
      "{'epoch': 0, 'batch': 74, 'loss': 7.420221328735352}\n",
      "{'epoch': 0, 'batch': 75, 'loss': 7.8969244956970215}\n",
      "{'epoch': 0, 'batch': 76, 'loss': 7.4651336669921875}\n",
      "{'epoch': 0, 'batch': 77, 'loss': 8.46298885345459}\n",
      "{'epoch': 0, 'batch': 78, 'loss': 8.105510711669922}\n",
      "{'epoch': 0, 'batch': 79, 'loss': 8.526543617248535}\n",
      "{'epoch': 0, 'batch': 80, 'loss': 7.790185451507568}\n",
      "{'epoch': 0, 'batch': 81, 'loss': 8.009984016418457}\n",
      "{'epoch': 0, 'batch': 82, 'loss': 8.311586380004883}\n",
      "{'epoch': 0, 'batch': 83, 'loss': 7.653811931610107}\n",
      "{'epoch': 0, 'batch': 84, 'loss': 8.097119331359863}\n",
      "{'epoch': 0, 'batch': 85, 'loss': 8.332776069641113}\n",
      "{'epoch': 0, 'batch': 86, 'loss': 7.664403915405273}\n",
      "{'epoch': 0, 'batch': 87, 'loss': 8.705132484436035}\n",
      "{'epoch': 0, 'batch': 88, 'loss': 8.075199127197266}\n",
      "{'epoch': 0, 'batch': 89, 'loss': 8.314099311828613}\n",
      "{'epoch': 0, 'batch': 90, 'loss': 8.774179458618164}\n",
      "{'epoch': 0, 'batch': 91, 'loss': 7.451399326324463}\n",
      "{'epoch': 0, 'batch': 92, 'loss': 8.026354789733887}\n",
      "{'epoch': 0, 'batch': 93, 'loss': 8.185622215270996}\n",
      "{'epoch': 0, 'batch': 94, 'loss': 7.175573825836182}\n",
      "{'epoch': 0, 'batch': 95, 'loss': 7.47355842590332}\n",
      "{'epoch': 0, 'batch': 96, 'loss': 7.386957168579102}\n",
      "{'epoch': 0, 'batch': 97, 'loss': 7.823136806488037}\n",
      "{'epoch': 0, 'batch': 98, 'loss': 8.21640682220459}\n",
      "{'epoch': 0, 'batch': 99, 'loss': 7.654220104217529}\n",
      "{'epoch': 0, 'batch': 100, 'loss': 8.718356132507324}\n",
      "{'epoch': 0, 'batch': 101, 'loss': 8.119887351989746}\n",
      "{'epoch': 0, 'batch': 102, 'loss': 7.9282612800598145}\n",
      "{'epoch': 0, 'batch': 103, 'loss': 8.088799476623535}\n",
      "{'epoch': 0, 'batch': 104, 'loss': 8.729594230651855}\n",
      "{'epoch': 0, 'batch': 105, 'loss': 7.334765911102295}\n",
      "{'epoch': 0, 'batch': 106, 'loss': 7.453948497772217}\n",
      "{'epoch': 0, 'batch': 107, 'loss': 6.454866409301758}\n",
      "{'epoch': 0, 'batch': 108, 'loss': 7.652204990386963}\n",
      "{'epoch': 0, 'batch': 109, 'loss': 7.65565824508667}\n",
      "{'epoch': 0, 'batch': 110, 'loss': 7.861215591430664}\n",
      "{'epoch': 0, 'batch': 111, 'loss': 7.881500720977783}\n",
      "{'epoch': 0, 'batch': 112, 'loss': 7.641526699066162}\n",
      "{'epoch': 0, 'batch': 113, 'loss': 7.359364986419678}\n",
      "{'epoch': 0, 'batch': 114, 'loss': 7.465023517608643}\n",
      "{'epoch': 0, 'batch': 115, 'loss': 7.1608147621154785}\n",
      "{'epoch': 0, 'batch': 116, 'loss': 7.7760491371154785}\n",
      "{'epoch': 0, 'batch': 117, 'loss': 7.599865436553955}\n",
      "{'epoch': 0, 'batch': 118, 'loss': 8.434967994689941}\n",
      "{'epoch': 0, 'batch': 119, 'loss': 7.6491007804870605}\n",
      "{'epoch': 0, 'batch': 120, 'loss': 7.458497524261475}\n",
      "{'epoch': 0, 'batch': 121, 'loss': 7.710931777954102}\n",
      "{'epoch': 0, 'batch': 122, 'loss': 7.641143321990967}\n",
      "{'epoch': 0, 'batch': 123, 'loss': 8.15107250213623}\n",
      "{'epoch': 0, 'batch': 124, 'loss': 7.836221218109131}\n",
      "{'epoch': 0, 'batch': 125, 'loss': 7.6071014404296875}\n",
      "{'epoch': 0, 'batch': 126, 'loss': 7.4271321296691895}\n",
      "{'epoch': 0, 'batch': 127, 'loss': 7.259028911590576}\n",
      "{'epoch': 0, 'batch': 128, 'loss': 7.86421012878418}\n",
      "{'epoch': 0, 'batch': 129, 'loss': 8.342781066894531}\n",
      "{'epoch': 0, 'batch': 130, 'loss': 8.245865821838379}\n",
      "{'epoch': 0, 'batch': 131, 'loss': 7.744649887084961}\n",
      "{'epoch': 0, 'batch': 132, 'loss': 8.54778003692627}\n",
      "{'epoch': 0, 'batch': 133, 'loss': 8.687531471252441}\n",
      "{'epoch': 0, 'batch': 134, 'loss': 7.510608673095703}\n",
      "{'epoch': 0, 'batch': 135, 'loss': 7.267201900482178}\n",
      "{'epoch': 0, 'batch': 136, 'loss': 8.02489185333252}\n",
      "{'epoch': 0, 'batch': 137, 'loss': 8.801167488098145}\n",
      "{'epoch': 0, 'batch': 138, 'loss': 7.701417922973633}\n",
      "{'epoch': 0, 'batch': 139, 'loss': 8.092122077941895}\n",
      "{'epoch': 0, 'batch': 140, 'loss': 7.086626052856445}\n",
      "{'epoch': 0, 'batch': 141, 'loss': 7.209392070770264}\n",
      "{'epoch': 0, 'batch': 142, 'loss': 8.261425971984863}\n",
      "{'epoch': 0, 'batch': 143, 'loss': 7.575473308563232}\n",
      "{'epoch': 0, 'batch': 144, 'loss': 7.376186370849609}\n",
      "{'epoch': 0, 'batch': 145, 'loss': 7.624434947967529}\n",
      "{'epoch': 0, 'batch': 146, 'loss': 8.755614280700684}\n",
      "{'epoch': 0, 'batch': 147, 'loss': 7.999851226806641}\n",
      "{'epoch': 0, 'batch': 148, 'loss': 7.570661544799805}\n",
      "{'epoch': 0, 'batch': 149, 'loss': 7.622949600219727}\n",
      "{'epoch': 0, 'batch': 150, 'loss': 7.564906597137451}\n",
      "{'epoch': 0, 'batch': 151, 'loss': 7.6999735832214355}\n",
      "{'epoch': 0, 'batch': 152, 'loss': 7.5274200439453125}\n",
      "{'epoch': 0, 'batch': 153, 'loss': 7.392151355743408}\n",
      "{'epoch': 0, 'batch': 154, 'loss': 7.729233264923096}\n",
      "{'epoch': 0, 'batch': 155, 'loss': 7.833940029144287}\n",
      "{'epoch': 0, 'batch': 156, 'loss': 8.032661437988281}\n",
      "{'epoch': 0, 'batch': 157, 'loss': 7.390451908111572}\n",
      "{'epoch': 0, 'batch': 158, 'loss': 7.665300369262695}\n",
      "{'epoch': 0, 'batch': 159, 'loss': 7.8328094482421875}\n",
      "{'epoch': 0, 'batch': 160, 'loss': 7.978137969970703}\n",
      "{'epoch': 0, 'batch': 161, 'loss': 7.667409896850586}\n",
      "{'epoch': 0, 'batch': 162, 'loss': 7.759602069854736}\n",
      "{'epoch': 0, 'batch': 163, 'loss': 7.3954997062683105}\n",
      "{'epoch': 0, 'batch': 164, 'loss': 7.495468616485596}\n",
      "{'epoch': 0, 'batch': 165, 'loss': 7.449746608734131}\n",
      "{'epoch': 0, 'batch': 166, 'loss': 7.97143030166626}\n",
      "{'epoch': 0, 'batch': 167, 'loss': 8.31638240814209}\n",
      "{'epoch': 0, 'batch': 168, 'loss': 7.343194961547852}\n",
      "{'epoch': 0, 'batch': 169, 'loss': 7.575354099273682}\n",
      "{'epoch': 0, 'batch': 170, 'loss': 7.814693927764893}\n",
      "{'epoch': 0, 'batch': 171, 'loss': 7.23082971572876}\n",
      "{'epoch': 0, 'batch': 172, 'loss': 7.5179314613342285}\n",
      "{'epoch': 0, 'batch': 173, 'loss': 7.134471416473389}\n",
      "{'epoch': 0, 'batch': 174, 'loss': 7.446044921875}\n",
      "{'epoch': 0, 'batch': 175, 'loss': 8.113090515136719}\n",
      "{'epoch': 0, 'batch': 176, 'loss': 7.085660934448242}\n",
      "{'epoch': 0, 'batch': 177, 'loss': 7.143293857574463}\n",
      "{'epoch': 0, 'batch': 178, 'loss': 7.436330318450928}\n",
      "{'epoch': 0, 'batch': 179, 'loss': 7.929768085479736}\n",
      "{'epoch': 0, 'batch': 180, 'loss': 7.613858699798584}\n",
      "{'epoch': 0, 'batch': 181, 'loss': 7.573354721069336}\n",
      "{'epoch': 0, 'batch': 182, 'loss': 7.828410625457764}\n",
      "{'epoch': 0, 'batch': 183, 'loss': 7.468678951263428}\n",
      "{'epoch': 0, 'batch': 184, 'loss': 7.302727222442627}\n",
      "{'epoch': 0, 'batch': 185, 'loss': 7.321804523468018}\n",
      "{'epoch': 0, 'batch': 186, 'loss': 7.372119426727295}\n",
      "{'epoch': 0, 'batch': 187, 'loss': 7.373650074005127}\n",
      "{'epoch': 0, 'batch': 188, 'loss': 7.1837286949157715}\n",
      "{'epoch': 0, 'batch': 189, 'loss': 7.489030361175537}\n",
      "{'epoch': 0, 'batch': 190, 'loss': 7.393868923187256}\n",
      "{'epoch': 0, 'batch': 191, 'loss': 7.8691887855529785}\n",
      "{'epoch': 0, 'batch': 192, 'loss': 7.3624267578125}\n",
      "{'epoch': 0, 'batch': 193, 'loss': 7.865607738494873}\n",
      "{'epoch': 0, 'batch': 194, 'loss': 7.678238391876221}\n",
      "{'epoch': 0, 'batch': 195, 'loss': 7.798800945281982}\n",
      "{'epoch': 0, 'batch': 196, 'loss': 7.920309066772461}\n",
      "{'epoch': 0, 'batch': 197, 'loss': 7.570007801055908}\n",
      "{'epoch': 0, 'batch': 198, 'loss': 7.518958568572998}\n",
      "{'epoch': 0, 'batch': 199, 'loss': 7.773990631103516}\n",
      "{'epoch': 0, 'batch': 200, 'loss': 7.100542068481445}\n",
      "{'epoch': 0, 'batch': 201, 'loss': 6.7107720375061035}\n",
      "{'epoch': 0, 'batch': 202, 'loss': 7.127373218536377}\n",
      "{'epoch': 0, 'batch': 203, 'loss': 8.191807746887207}\n",
      "{'epoch': 0, 'batch': 204, 'loss': 7.6761345863342285}\n",
      "{'epoch': 0, 'batch': 205, 'loss': 7.8634514808654785}\n",
      "{'epoch': 0, 'batch': 206, 'loss': 8.016188621520996}\n",
      "{'epoch': 0, 'batch': 207, 'loss': 7.595386505126953}\n",
      "{'epoch': 0, 'batch': 208, 'loss': 7.3072943687438965}\n",
      "{'epoch': 0, 'batch': 209, 'loss': 8.360705375671387}\n",
      "{'epoch': 0, 'batch': 210, 'loss': 7.996781826019287}\n",
      "{'epoch': 0, 'batch': 211, 'loss': 7.627328395843506}\n",
      "{'epoch': 0, 'batch': 212, 'loss': 7.868013381958008}\n",
      "{'epoch': 0, 'batch': 213, 'loss': 7.82712984085083}\n",
      "{'epoch': 0, 'batch': 214, 'loss': 7.401678562164307}\n",
      "{'epoch': 0, 'batch': 215, 'loss': 7.303953647613525}\n",
      "{'epoch': 0, 'batch': 216, 'loss': 7.252404689788818}\n",
      "{'epoch': 0, 'batch': 217, 'loss': 7.859736919403076}\n",
      "{'epoch': 0, 'batch': 218, 'loss': 7.814960479736328}\n",
      "{'epoch': 0, 'batch': 219, 'loss': 7.104352951049805}\n",
      "{'epoch': 0, 'batch': 220, 'loss': 6.938683986663818}\n",
      "{'epoch': 0, 'batch': 221, 'loss': 7.662251949310303}\n",
      "{'epoch': 0, 'batch': 222, 'loss': 7.718006134033203}\n",
      "{'epoch': 0, 'batch': 223, 'loss': 8.137255668640137}\n",
      "{'epoch': 0, 'batch': 224, 'loss': 7.919109344482422}\n",
      "{'epoch': 0, 'batch': 225, 'loss': 7.45191764831543}\n",
      "{'epoch': 0, 'batch': 226, 'loss': 7.435661792755127}\n",
      "{'epoch': 0, 'batch': 227, 'loss': 7.676633834838867}\n",
      "{'epoch': 0, 'batch': 228, 'loss': 7.493816375732422}\n",
      "{'epoch': 0, 'batch': 229, 'loss': 8.00444507598877}\n",
      "{'epoch': 0, 'batch': 230, 'loss': 8.08303165435791}\n",
      "{'epoch': 0, 'batch': 231, 'loss': 7.963117599487305}\n",
      "{'epoch': 0, 'batch': 232, 'loss': 7.296279430389404}\n",
      "{'epoch': 0, 'batch': 233, 'loss': 7.410532474517822}\n",
      "{'epoch': 0, 'batch': 234, 'loss': 7.598720073699951}\n",
      "{'epoch': 0, 'batch': 235, 'loss': 7.3522772789001465}\n",
      "{'epoch': 0, 'batch': 236, 'loss': 7.827203750610352}\n",
      "{'epoch': 0, 'batch': 237, 'loss': 7.416965484619141}\n",
      "{'epoch': 0, 'batch': 238, 'loss': 7.17031717300415}\n",
      "{'epoch': 0, 'batch': 239, 'loss': 7.437179088592529}\n",
      "{'epoch': 0, 'batch': 240, 'loss': 7.844252109527588}\n",
      "{'epoch': 0, 'batch': 241, 'loss': 7.400563716888428}\n",
      "{'epoch': 0, 'batch': 242, 'loss': 7.287074565887451}\n",
      "{'epoch': 0, 'batch': 243, 'loss': 7.375791072845459}\n",
      "{'epoch': 0, 'batch': 244, 'loss': 7.449552059173584}\n",
      "{'epoch': 0, 'batch': 245, 'loss': 7.62083625793457}\n",
      "{'epoch': 0, 'batch': 246, 'loss': 8.234474182128906}\n",
      "{'epoch': 0, 'batch': 247, 'loss': 8.885913848876953}\n",
      "{'epoch': 0, 'batch': 248, 'loss': 7.993598461151123}\n",
      "{'epoch': 0, 'batch': 249, 'loss': 7.839478969573975}\n",
      "{'epoch': 0, 'batch': 250, 'loss': 8.341198921203613}\n",
      "{'epoch': 0, 'batch': 251, 'loss': 7.10261344909668}\n",
      "{'epoch': 0, 'batch': 252, 'loss': 7.693755626678467}\n",
      "{'epoch': 0, 'batch': 253, 'loss': 7.80392599105835}\n",
      "{'epoch': 0, 'batch': 254, 'loss': 7.825538635253906}\n",
      "{'epoch': 0, 'batch': 255, 'loss': 8.08634090423584}\n",
      "{'epoch': 0, 'batch': 256, 'loss': 7.169862270355225}\n",
      "{'epoch': 0, 'batch': 257, 'loss': 7.00530481338501}\n",
      "{'epoch': 0, 'batch': 258, 'loss': 5.869156360626221}\n",
      "{'epoch': 0, 'batch': 259, 'loss': 7.445191860198975}\n",
      "{'epoch': 0, 'batch': 260, 'loss': 7.215280055999756}\n",
      "{'epoch': 0, 'batch': 261, 'loss': 7.494605541229248}\n",
      "{'epoch': 0, 'batch': 262, 'loss': 7.640873432159424}\n",
      "{'epoch': 0, 'batch': 263, 'loss': 7.800930500030518}\n",
      "{'epoch': 0, 'batch': 264, 'loss': 7.385379791259766}\n",
      "{'epoch': 0, 'batch': 265, 'loss': 7.79448938369751}\n",
      "{'epoch': 0, 'batch': 266, 'loss': 7.154639720916748}\n",
      "{'epoch': 0, 'batch': 267, 'loss': 8.203807830810547}\n",
      "{'epoch': 0, 'batch': 268, 'loss': 8.229082107543945}\n",
      "{'epoch': 0, 'batch': 269, 'loss': 7.493814468383789}\n",
      "{'epoch': 0, 'batch': 270, 'loss': 7.639833450317383}\n",
      "{'epoch': 0, 'batch': 271, 'loss': 7.214640140533447}\n",
      "{'epoch': 0, 'batch': 272, 'loss': 7.485311985015869}\n",
      "{'epoch': 0, 'batch': 273, 'loss': 7.831997394561768}\n",
      "{'epoch': 0, 'batch': 274, 'loss': 7.090129852294922}\n",
      "{'epoch': 0, 'batch': 275, 'loss': 7.825080394744873}\n",
      "{'epoch': 0, 'batch': 276, 'loss': 7.419508457183838}\n",
      "{'epoch': 0, 'batch': 277, 'loss': 7.68815279006958}\n",
      "{'epoch': 0, 'batch': 278, 'loss': 7.7420878410339355}\n",
      "{'epoch': 0, 'batch': 279, 'loss': 7.914575576782227}\n",
      "{'epoch': 0, 'batch': 280, 'loss': 8.031476974487305}\n",
      "{'epoch': 0, 'batch': 281, 'loss': 7.4097208976745605}\n",
      "{'epoch': 0, 'batch': 282, 'loss': 7.915261745452881}\n",
      "{'epoch': 0, 'batch': 283, 'loss': 7.646659851074219}\n",
      "{'epoch': 0, 'batch': 284, 'loss': 7.759673595428467}\n",
      "{'epoch': 0, 'batch': 285, 'loss': 7.7536797523498535}\n",
      "{'epoch': 0, 'batch': 286, 'loss': 7.346319198608398}\n",
      "{'epoch': 0, 'batch': 287, 'loss': 7.356449127197266}\n",
      "{'epoch': 0, 'batch': 288, 'loss': 7.141727447509766}\n",
      "{'epoch': 0, 'batch': 289, 'loss': 7.489870071411133}\n",
      "{'epoch': 0, 'batch': 290, 'loss': 7.403899669647217}\n",
      "{'epoch': 0, 'batch': 291, 'loss': 7.33437967300415}\n",
      "{'epoch': 0, 'batch': 292, 'loss': 7.9251790046691895}\n",
      "{'epoch': 0, 'batch': 293, 'loss': 8.088480949401855}\n",
      "{'epoch': 0, 'batch': 294, 'loss': 7.543739318847656}\n",
      "{'epoch': 0, 'batch': 295, 'loss': 7.397590160369873}\n",
      "{'epoch': 0, 'batch': 296, 'loss': 7.680231094360352}\n",
      "{'epoch': 0, 'batch': 297, 'loss': 7.55364990234375}\n",
      "{'epoch': 0, 'batch': 298, 'loss': 6.925502777099609}\n",
      "{'epoch': 0, 'batch': 299, 'loss': 7.271559238433838}\n",
      "{'epoch': 0, 'batch': 300, 'loss': 7.156412124633789}\n",
      "{'epoch': 0, 'batch': 301, 'loss': 7.149522304534912}\n",
      "{'epoch': 0, 'batch': 302, 'loss': 7.363601207733154}\n",
      "{'epoch': 0, 'batch': 303, 'loss': 7.116033554077148}\n",
      "{'epoch': 0, 'batch': 304, 'loss': 7.464118957519531}\n",
      "{'epoch': 0, 'batch': 305, 'loss': 7.358156681060791}\n",
      "{'epoch': 0, 'batch': 306, 'loss': 7.502880573272705}\n",
      "{'epoch': 0, 'batch': 307, 'loss': 7.598064422607422}\n",
      "{'epoch': 0, 'batch': 308, 'loss': 6.474877834320068}\n",
      "{'epoch': 0, 'batch': 309, 'loss': 7.187099933624268}\n",
      "{'epoch': 0, 'batch': 310, 'loss': 7.4846014976501465}\n",
      "{'epoch': 0, 'batch': 311, 'loss': 7.81403923034668}\n",
      "{'epoch': 0, 'batch': 312, 'loss': 7.849335193634033}\n",
      "{'epoch': 0, 'batch': 313, 'loss': 6.390975475311279}\n",
      "{'epoch': 0, 'batch': 314, 'loss': 7.941385746002197}\n",
      "{'epoch': 0, 'batch': 315, 'loss': 8.123015403747559}\n",
      "{'epoch': 0, 'batch': 316, 'loss': 7.957939624786377}\n",
      "{'epoch': 0, 'batch': 317, 'loss': 7.23988151550293}\n",
      "{'epoch': 0, 'batch': 318, 'loss': 7.486080169677734}\n",
      "{'epoch': 0, 'batch': 319, 'loss': 8.089414596557617}\n",
      "{'epoch': 0, 'batch': 320, 'loss': 8.146387100219727}\n",
      "{'epoch': 0, 'batch': 321, 'loss': 7.654441833496094}\n",
      "{'epoch': 0, 'batch': 322, 'loss': 7.564812183380127}\n",
      "{'epoch': 0, 'batch': 323, 'loss': 7.590945720672607}\n",
      "{'epoch': 0, 'batch': 324, 'loss': 7.595424175262451}\n",
      "{'epoch': 0, 'batch': 325, 'loss': 7.528797626495361}\n",
      "{'epoch': 0, 'batch': 326, 'loss': 7.433748245239258}\n",
      "{'epoch': 0, 'batch': 327, 'loss': 7.7943434715271}\n",
      "{'epoch': 0, 'batch': 328, 'loss': 7.203619480133057}\n",
      "{'epoch': 0, 'batch': 329, 'loss': 7.383996963500977}\n",
      "{'epoch': 0, 'batch': 330, 'loss': 7.407724857330322}\n",
      "{'epoch': 0, 'batch': 331, 'loss': 7.627588272094727}\n",
      "{'epoch': 0, 'batch': 332, 'loss': 7.649501800537109}\n",
      "{'epoch': 0, 'batch': 333, 'loss': 7.36890172958374}\n",
      "{'epoch': 0, 'batch': 334, 'loss': 7.352182388305664}\n",
      "{'epoch': 0, 'batch': 335, 'loss': 7.725124359130859}\n",
      "{'epoch': 0, 'batch': 336, 'loss': 8.017108917236328}\n",
      "{'epoch': 0, 'batch': 337, 'loss': 7.365845203399658}\n",
      "{'epoch': 0, 'batch': 338, 'loss': 7.537720203399658}\n",
      "{'epoch': 0, 'batch': 339, 'loss': 7.897703647613525}\n",
      "{'epoch': 0, 'batch': 340, 'loss': 7.214325428009033}\n",
      "{'epoch': 0, 'batch': 341, 'loss': 7.987319469451904}\n",
      "{'epoch': 0, 'batch': 342, 'loss': 7.655505657196045}\n",
      "{'epoch': 0, 'batch': 343, 'loss': 7.232059478759766}\n",
      "{'epoch': 0, 'batch': 344, 'loss': 6.820722579956055}\n",
      "{'epoch': 0, 'batch': 345, 'loss': 7.267124176025391}\n",
      "{'epoch': 0, 'batch': 346, 'loss': 7.336522579193115}\n",
      "{'epoch': 0, 'batch': 347, 'loss': 7.975525379180908}\n",
      "{'epoch': 0, 'batch': 348, 'loss': 8.058669090270996}\n",
      "{'epoch': 0, 'batch': 349, 'loss': 7.33395528793335}\n",
      "{'epoch': 0, 'batch': 350, 'loss': 7.530833721160889}\n",
      "{'epoch': 0, 'batch': 351, 'loss': 7.546489715576172}\n",
      "{'epoch': 0, 'batch': 352, 'loss': 7.272122859954834}\n",
      "{'epoch': 0, 'batch': 353, 'loss': 7.3341755867004395}\n",
      "{'epoch': 0, 'batch': 354, 'loss': 7.2630767822265625}\n",
      "{'epoch': 0, 'batch': 355, 'loss': 8.021647453308105}\n",
      "{'epoch': 0, 'batch': 356, 'loss': 7.29835319519043}\n",
      "{'epoch': 0, 'batch': 357, 'loss': 9.233689308166504}\n",
      "{'epoch': 0, 'batch': 358, 'loss': 7.633178234100342}\n",
      "{'epoch': 0, 'batch': 359, 'loss': 7.535348415374756}\n",
      "{'epoch': 0, 'batch': 360, 'loss': 7.769521236419678}\n",
      "{'epoch': 0, 'batch': 361, 'loss': 7.3512187004089355}\n",
      "{'epoch': 0, 'batch': 362, 'loss': 7.6001715660095215}\n",
      "{'epoch': 0, 'batch': 363, 'loss': 7.070186614990234}\n",
      "{'epoch': 0, 'batch': 364, 'loss': 6.980862140655518}\n",
      "{'epoch': 0, 'batch': 365, 'loss': 7.631996154785156}\n",
      "{'epoch': 0, 'batch': 366, 'loss': 7.679419040679932}\n",
      "{'epoch': 0, 'batch': 367, 'loss': 7.221768856048584}\n",
      "{'epoch': 0, 'batch': 368, 'loss': 7.386617660522461}\n",
      "{'epoch': 0, 'batch': 369, 'loss': 7.985292434692383}\n"
     ]
    },
    {
     "output_type": "error",
     "ename": "KeyboardInterrupt",
     "evalue": "ignored",
     "traceback": [
      "\u001B[0;31m---------------------------------------------------------------------------\u001B[0m",
      "\u001B[0;31mKeyboardInterrupt\u001B[0m                         Traceback (most recent call last)",
      "\u001B[0;32m<ipython-input-14-ab86ff67d8be>\u001B[0m in \u001B[0;36m<module>\u001B[0;34m()\u001B[0m\n\u001B[1;32m      3\u001B[0m \u001B[0mmodel\u001B[0m \u001B[0;34m=\u001B[0m \u001B[0mModel\u001B[0m\u001B[0;34m(\u001B[0m\u001B[0mdataset\u001B[0m\u001B[0;34m)\u001B[0m\u001B[0;34m\u001B[0m\u001B[0;34m\u001B[0m\u001B[0m\n\u001B[1;32m      4\u001B[0m \u001B[0;34m\u001B[0m\u001B[0m\n\u001B[0;32m----> 5\u001B[0;31m \u001B[0mtrain\u001B[0m\u001B[0;34m(\u001B[0m\u001B[0mdataset\u001B[0m\u001B[0;34m,\u001B[0m \u001B[0mmodel\u001B[0m\u001B[0;34m)\u001B[0m\u001B[0;34m\u001B[0m\u001B[0;34m\u001B[0m\u001B[0m\n\u001B[0m\u001B[1;32m      6\u001B[0m \u001B[0;31m#print(predict(dataset, model, text='Knock knock. Whos there?'))\u001B[0m\u001B[0;34m\u001B[0m\u001B[0;34m\u001B[0m\u001B[0;34m\u001B[0m\u001B[0m\n",
      "\u001B[0;32m<ipython-input-13-1eca2c5341eb>\u001B[0m in \u001B[0;36mtrain\u001B[0;34m(dataset, model)\u001B[0m\n\u001B[1;32m     18\u001B[0m             \u001B[0moptimizer\u001B[0m\u001B[0;34m.\u001B[0m\u001B[0mzero_grad\u001B[0m\u001B[0;34m(\u001B[0m\u001B[0;34m)\u001B[0m\u001B[0;34m\u001B[0m\u001B[0;34m\u001B[0m\u001B[0m\n\u001B[1;32m     19\u001B[0m \u001B[0;34m\u001B[0m\u001B[0m\n\u001B[0;32m---> 20\u001B[0;31m             \u001B[0my_pred\u001B[0m\u001B[0;34m,\u001B[0m \u001B[0;34m(\u001B[0m\u001B[0mstate_h\u001B[0m\u001B[0;34m,\u001B[0m \u001B[0mstate_c\u001B[0m\u001B[0;34m)\u001B[0m \u001B[0;34m=\u001B[0m \u001B[0mmodel\u001B[0m\u001B[0;34m(\u001B[0m\u001B[0mx\u001B[0m\u001B[0;34m,\u001B[0m \u001B[0;34m(\u001B[0m\u001B[0mstate_h\u001B[0m\u001B[0;34m,\u001B[0m \u001B[0mstate_c\u001B[0m\u001B[0;34m)\u001B[0m\u001B[0;34m)\u001B[0m\u001B[0;34m\u001B[0m\u001B[0;34m\u001B[0m\u001B[0m\n\u001B[0m\u001B[1;32m     21\u001B[0m             \u001B[0mloss\u001B[0m \u001B[0;34m=\u001B[0m \u001B[0mcriterion\u001B[0m\u001B[0;34m(\u001B[0m\u001B[0my_pred\u001B[0m\u001B[0;34m.\u001B[0m\u001B[0mtranspose\u001B[0m\u001B[0;34m(\u001B[0m\u001B[0;36m1\u001B[0m\u001B[0;34m,\u001B[0m \u001B[0;36m2\u001B[0m\u001B[0;34m)\u001B[0m\u001B[0;34m,\u001B[0m \u001B[0my\u001B[0m\u001B[0;34m)\u001B[0m\u001B[0;34m\u001B[0m\u001B[0;34m\u001B[0m\u001B[0m\n\u001B[1;32m     22\u001B[0m \u001B[0;34m\u001B[0m\u001B[0m\n",
      "\u001B[0;32m/usr/local/lib/python3.7/dist-packages/torch/nn/modules/module.py\u001B[0m in \u001B[0;36m_call_impl\u001B[0;34m(self, *input, **kwargs)\u001B[0m\n\u001B[1;32m   1128\u001B[0m         if not (self._backward_hooks or self._forward_hooks or self._forward_pre_hooks or _global_backward_hooks\n\u001B[1;32m   1129\u001B[0m                 or _global_forward_hooks or _global_forward_pre_hooks):\n\u001B[0;32m-> 1130\u001B[0;31m             \u001B[0;32mreturn\u001B[0m \u001B[0mforward_call\u001B[0m\u001B[0;34m(\u001B[0m\u001B[0;34m*\u001B[0m\u001B[0minput\u001B[0m\u001B[0;34m,\u001B[0m \u001B[0;34m**\u001B[0m\u001B[0mkwargs\u001B[0m\u001B[0;34m)\u001B[0m\u001B[0;34m\u001B[0m\u001B[0;34m\u001B[0m\u001B[0m\n\u001B[0m\u001B[1;32m   1131\u001B[0m         \u001B[0;31m# Do not call functions when jit is used\u001B[0m\u001B[0;34m\u001B[0m\u001B[0;34m\u001B[0m\u001B[0;34m\u001B[0m\u001B[0m\n\u001B[1;32m   1132\u001B[0m         \u001B[0mfull_backward_hooks\u001B[0m\u001B[0;34m,\u001B[0m \u001B[0mnon_full_backward_hooks\u001B[0m \u001B[0;34m=\u001B[0m \u001B[0;34m[\u001B[0m\u001B[0;34m]\u001B[0m\u001B[0;34m,\u001B[0m \u001B[0;34m[\u001B[0m\u001B[0;34m]\u001B[0m\u001B[0;34m\u001B[0m\u001B[0;34m\u001B[0m\u001B[0m\n",
      "\u001B[0;32m<ipython-input-12-95a5de12666e>\u001B[0m in \u001B[0;36mforward\u001B[0;34m(self, x, prev_state)\u001B[0m\n\u001B[1;32m     25\u001B[0m       \u001B[0membed\u001B[0m \u001B[0;34m=\u001B[0m \u001B[0mself\u001B[0m\u001B[0;34m.\u001B[0m\u001B[0membedding\u001B[0m\u001B[0;34m(\u001B[0m\u001B[0mx\u001B[0m\u001B[0;34m)\u001B[0m\u001B[0;34m\u001B[0m\u001B[0;34m\u001B[0m\u001B[0m\n\u001B[1;32m     26\u001B[0m       \u001B[0moutput\u001B[0m\u001B[0;34m,\u001B[0m \u001B[0mstate\u001B[0m \u001B[0;34m=\u001B[0m \u001B[0mself\u001B[0m\u001B[0;34m.\u001B[0m\u001B[0mlstm\u001B[0m\u001B[0;34m(\u001B[0m\u001B[0membed\u001B[0m\u001B[0;34m,\u001B[0m \u001B[0mprev_state\u001B[0m\u001B[0;34m)\u001B[0m\u001B[0;34m\u001B[0m\u001B[0;34m\u001B[0m\u001B[0m\n\u001B[0;32m---> 27\u001B[0;31m       \u001B[0mlogits\u001B[0m \u001B[0;34m=\u001B[0m \u001B[0mself\u001B[0m\u001B[0;34m.\u001B[0m\u001B[0mfc\u001B[0m\u001B[0;34m(\u001B[0m\u001B[0moutput\u001B[0m\u001B[0;34m)\u001B[0m\u001B[0;34m\u001B[0m\u001B[0;34m\u001B[0m\u001B[0m\n\u001B[0m\u001B[1;32m     28\u001B[0m       \u001B[0;32mreturn\u001B[0m \u001B[0mlogits\u001B[0m\u001B[0;34m,\u001B[0m \u001B[0mstate\u001B[0m\u001B[0;34m\u001B[0m\u001B[0;34m\u001B[0m\u001B[0m\n\u001B[1;32m     29\u001B[0m \u001B[0;34m\u001B[0m\u001B[0m\n",
      "\u001B[0;32m/usr/local/lib/python3.7/dist-packages/torch/nn/modules/module.py\u001B[0m in \u001B[0;36m_call_impl\u001B[0;34m(self, *input, **kwargs)\u001B[0m\n\u001B[1;32m   1128\u001B[0m         if not (self._backward_hooks or self._forward_hooks or self._forward_pre_hooks or _global_backward_hooks\n\u001B[1;32m   1129\u001B[0m                 or _global_forward_hooks or _global_forward_pre_hooks):\n\u001B[0;32m-> 1130\u001B[0;31m             \u001B[0;32mreturn\u001B[0m \u001B[0mforward_call\u001B[0m\u001B[0;34m(\u001B[0m\u001B[0;34m*\u001B[0m\u001B[0minput\u001B[0m\u001B[0;34m,\u001B[0m \u001B[0;34m**\u001B[0m\u001B[0mkwargs\u001B[0m\u001B[0;34m)\u001B[0m\u001B[0;34m\u001B[0m\u001B[0;34m\u001B[0m\u001B[0m\n\u001B[0m\u001B[1;32m   1131\u001B[0m         \u001B[0;31m# Do not call functions when jit is used\u001B[0m\u001B[0;34m\u001B[0m\u001B[0;34m\u001B[0m\u001B[0;34m\u001B[0m\u001B[0m\n\u001B[1;32m   1132\u001B[0m         \u001B[0mfull_backward_hooks\u001B[0m\u001B[0;34m,\u001B[0m \u001B[0mnon_full_backward_hooks\u001B[0m \u001B[0;34m=\u001B[0m \u001B[0;34m[\u001B[0m\u001B[0;34m]\u001B[0m\u001B[0;34m,\u001B[0m \u001B[0;34m[\u001B[0m\u001B[0;34m]\u001B[0m\u001B[0;34m\u001B[0m\u001B[0;34m\u001B[0m\u001B[0m\n",
      "\u001B[0;32m/usr/local/lib/python3.7/dist-packages/torch/nn/modules/linear.py\u001B[0m in \u001B[0;36mforward\u001B[0;34m(self, input)\u001B[0m\n\u001B[1;32m    112\u001B[0m \u001B[0;34m\u001B[0m\u001B[0m\n\u001B[1;32m    113\u001B[0m     \u001B[0;32mdef\u001B[0m \u001B[0mforward\u001B[0m\u001B[0;34m(\u001B[0m\u001B[0mself\u001B[0m\u001B[0;34m,\u001B[0m \u001B[0minput\u001B[0m\u001B[0;34m:\u001B[0m \u001B[0mTensor\u001B[0m\u001B[0;34m)\u001B[0m \u001B[0;34m->\u001B[0m \u001B[0mTensor\u001B[0m\u001B[0;34m:\u001B[0m\u001B[0;34m\u001B[0m\u001B[0;34m\u001B[0m\u001B[0m\n\u001B[0;32m--> 114\u001B[0;31m         \u001B[0;32mreturn\u001B[0m \u001B[0mF\u001B[0m\u001B[0;34m.\u001B[0m\u001B[0mlinear\u001B[0m\u001B[0;34m(\u001B[0m\u001B[0minput\u001B[0m\u001B[0;34m,\u001B[0m \u001B[0mself\u001B[0m\u001B[0;34m.\u001B[0m\u001B[0mweight\u001B[0m\u001B[0;34m,\u001B[0m \u001B[0mself\u001B[0m\u001B[0;34m.\u001B[0m\u001B[0mbias\u001B[0m\u001B[0;34m)\u001B[0m\u001B[0;34m\u001B[0m\u001B[0;34m\u001B[0m\u001B[0m\n\u001B[0m\u001B[1;32m    115\u001B[0m \u001B[0;34m\u001B[0m\u001B[0m\n\u001B[1;32m    116\u001B[0m     \u001B[0;32mdef\u001B[0m \u001B[0mextra_repr\u001B[0m\u001B[0;34m(\u001B[0m\u001B[0mself\u001B[0m\u001B[0;34m)\u001B[0m \u001B[0;34m->\u001B[0m \u001B[0mstr\u001B[0m\u001B[0;34m:\u001B[0m\u001B[0;34m\u001B[0m\u001B[0;34m\u001B[0m\u001B[0m\n",
      "\u001B[0;31mKeyboardInterrupt\u001B[0m: "
     ]
    }
   ]
  },
  {
   "cell_type": "code",
   "source": [
    "torch.save(model.state_dict(), '/content/drive/MyDrive/toxic-comment-classification/Words_generation_model.pkl')"
   ],
   "metadata": {
    "id": "ha8LEYS-xPVA",
    "pycharm": {
     "name": "#%%\n"
    }
   },
   "execution_count": 23,
   "outputs": []
  },
  {
   "cell_type": "code",
   "source": [
    "model_gen = Model(dataset)\n",
    "model_gen.load_state_dict(torch.load('/content/drive/MyDrive/toxic-comment-classification/Words_generation_model.pkl'))"
   ],
   "metadata": {
    "colab": {
     "base_uri": "https://localhost:8080/"
    },
    "id": "HyyEXtG4yaIb",
    "outputId": "1e74a88c-d3b7-4ec9-93f9-cb3ba7c8eb63",
    "pycharm": {
     "name": "#%%\n"
    }
   },
   "execution_count": 24,
   "outputs": [
    {
     "output_type": "execute_result",
     "data": {
      "text/plain": [
       "<All keys matched successfully>"
      ]
     },
     "metadata": {},
     "execution_count": 24
    }
   ]
  },
  {
   "cell_type": "code",
   "source": [
    "def predict(dataset, model, text, next_words=10):\n",
    "    model.eval()\n",
    "\n",
    "    words = text.split(' ')\n",
    "    state_h, state_c = model.init_state(len(words))\n",
    "\n",
    "    for i in range(0, next_words):\n",
    "        x = torch.tensor([[dataset.word_to_index[w] for w in words[i:]]])\n",
    "        y_pred, (state_h, state_c) = model(x, (state_h, state_c))\n",
    "\n",
    "        last_word_logits = y_pred[0][-1]\n",
    "        p = torch.nn.functional.softmax(last_word_logits, dim=0).detach().numpy()\n",
    "        word_index = np.random.choice(len(last_word_logits), p=p)\n",
    "        words.append(dataset.index_to_word[word_index])\n",
    "\n",
    "    return words"
   ],
   "metadata": {
    "id": "GiaX8JYxIhqQ",
    "pycharm": {
     "name": "#%%\n"
    }
   },
   "execution_count": 16,
   "outputs": []
  },
  {
   "cell_type": "code",
   "source": [
    "print(predict(dataset, model, text='no no no no'))"
   ],
   "metadata": {
    "colab": {
     "base_uri": "https://localhost:8080/"
    },
    "id": "4mXTrc6DM2cd",
    "outputId": "4b794e50-c3c5-4084-d6c0-30160d3b5dcb",
    "pycharm": {
     "name": "#%%\n"
    }
   },
   "execution_count": 34,
   "outputs": [
    {
     "output_type": "stream",
     "name": "stdout",
     "text": [
      "['no', 'no', 'no', 'no', 'Romanes', 'purpureus', 'unfounded?', 'have', 'proceed', 'you', 'been', 'test', 'your', 'discussing']\n"
     ]
    }
   ]
  },
  {
   "cell_type": "code",
   "source": [
    "df_len = len(df)\n",
    "for a in range(0 , df_len):\n",
    "    print(str(a) + \"/\" + str(df_len))\n",
    "    if (df.iloc[a]['toxic'] == 1) | (df.iloc[a]['severe_toxic'] == 1) | (df.iloc[a]['obscene'] == 1) | (df.iloc[a]['threat'] == 1) | (df.iloc[a]['insult'] == 1) | (df.iloc[a]['identity_hate'] == 1):  \n",
    "      f = df[\"comment_text\"][a]\n",
    "      following_words = predict(dataset, model, text=f)\n",
    "      sentence = ' '.join(following_words)\n",
    "      df[\"comment_text\"][a] = sentence\n",
    "    "
   ],
   "metadata": {
    "colab": {
     "base_uri": "https://localhost:8080/",
     "height": 1000
    },
    "id": "Pb3-kImcOBm1",
    "outputId": "20c390fb-c924-46ac-e87b-58123869e8b4",
    "pycharm": {
     "name": "#%%\n"
    }
   },
   "execution_count": 45,
   "outputs": [
    {
     "output_type": "stream",
     "name": "stdout",
     "text": [
      "0/159571\n",
      "1/159571\n",
      "2/159571\n",
      "3/159571\n",
      "4/159571\n",
      "5/159571\n",
      "6/159571\n"
     ]
    },
    {
     "output_type": "stream",
     "name": "stderr",
     "text": [
      "/usr/local/lib/python3.7/dist-packages/ipykernel_launcher.py:8: SettingWithCopyWarning: \n",
      "A value is trying to be set on a copy of a slice from a DataFrame\n",
      "\n",
      "See the caveats in the documentation: https://pandas.pydata.org/pandas-docs/stable/user_guide/indexing.html#returning-a-view-versus-a-copy\n",
      "  \n"
     ]
    },
    {
     "output_type": "stream",
     "name": "stdout",
     "text": [
      "7/159571\n",
      "8/159571\n",
      "9/159571\n",
      "10/159571\n",
      "11/159571\n",
      "12/159571\n",
      "13/159571\n",
      "14/159571\n",
      "15/159571\n",
      "16/159571\n",
      "17/159571\n",
      "18/159571\n",
      "19/159571\n",
      "20/159571\n",
      "21/159571\n",
      "22/159571\n",
      "23/159571\n",
      "24/159571\n",
      "25/159571\n",
      "26/159571\n",
      "27/159571\n",
      "28/159571\n",
      "29/159571\n",
      "30/159571\n",
      "31/159571\n",
      "32/159571\n",
      "33/159571\n",
      "34/159571\n",
      "35/159571\n",
      "36/159571\n",
      "37/159571\n",
      "38/159571\n",
      "39/159571\n",
      "40/159571\n",
      "41/159571\n",
      "42/159571\n"
     ]
    },
    {
     "output_type": "error",
     "ename": "KeyboardInterrupt",
     "evalue": "ignored",
     "traceback": [
      "\u001B[0;31m---------------------------------------------------------------------------\u001B[0m",
      "\u001B[0;31mKeyboardInterrupt\u001B[0m                         Traceback (most recent call last)",
      "\u001B[0;32m<ipython-input-45-9265ee9dfb95>\u001B[0m in \u001B[0;36m<module>\u001B[0;34m()\u001B[0m\n\u001B[1;32m      4\u001B[0m     \u001B[0;32mif\u001B[0m \u001B[0;34m(\u001B[0m\u001B[0mdf\u001B[0m\u001B[0;34m.\u001B[0m\u001B[0miloc\u001B[0m\u001B[0;34m[\u001B[0m\u001B[0ma\u001B[0m\u001B[0;34m]\u001B[0m\u001B[0;34m[\u001B[0m\u001B[0;34m'toxic'\u001B[0m\u001B[0;34m]\u001B[0m \u001B[0;34m==\u001B[0m \u001B[0;36m1\u001B[0m\u001B[0;34m)\u001B[0m \u001B[0;34m|\u001B[0m \u001B[0;34m(\u001B[0m\u001B[0mdf\u001B[0m\u001B[0;34m.\u001B[0m\u001B[0miloc\u001B[0m\u001B[0;34m[\u001B[0m\u001B[0ma\u001B[0m\u001B[0;34m]\u001B[0m\u001B[0;34m[\u001B[0m\u001B[0;34m'severe_toxic'\u001B[0m\u001B[0;34m]\u001B[0m \u001B[0;34m==\u001B[0m \u001B[0;36m1\u001B[0m\u001B[0;34m)\u001B[0m \u001B[0;34m|\u001B[0m \u001B[0;34m(\u001B[0m\u001B[0mdf\u001B[0m\u001B[0;34m.\u001B[0m\u001B[0miloc\u001B[0m\u001B[0;34m[\u001B[0m\u001B[0ma\u001B[0m\u001B[0;34m]\u001B[0m\u001B[0;34m[\u001B[0m\u001B[0;34m'obscene'\u001B[0m\u001B[0;34m]\u001B[0m \u001B[0;34m==\u001B[0m \u001B[0;36m1\u001B[0m\u001B[0;34m)\u001B[0m \u001B[0;34m|\u001B[0m \u001B[0;34m(\u001B[0m\u001B[0mdf\u001B[0m\u001B[0;34m.\u001B[0m\u001B[0miloc\u001B[0m\u001B[0;34m[\u001B[0m\u001B[0ma\u001B[0m\u001B[0;34m]\u001B[0m\u001B[0;34m[\u001B[0m\u001B[0;34m'threat'\u001B[0m\u001B[0;34m]\u001B[0m \u001B[0;34m==\u001B[0m \u001B[0;36m1\u001B[0m\u001B[0;34m)\u001B[0m \u001B[0;34m|\u001B[0m \u001B[0;34m(\u001B[0m\u001B[0mdf\u001B[0m\u001B[0;34m.\u001B[0m\u001B[0miloc\u001B[0m\u001B[0;34m[\u001B[0m\u001B[0ma\u001B[0m\u001B[0;34m]\u001B[0m\u001B[0;34m[\u001B[0m\u001B[0;34m'insult'\u001B[0m\u001B[0;34m]\u001B[0m \u001B[0;34m==\u001B[0m \u001B[0;36m1\u001B[0m\u001B[0;34m)\u001B[0m \u001B[0;34m|\u001B[0m \u001B[0;34m(\u001B[0m\u001B[0mdf\u001B[0m\u001B[0;34m.\u001B[0m\u001B[0miloc\u001B[0m\u001B[0;34m[\u001B[0m\u001B[0ma\u001B[0m\u001B[0;34m]\u001B[0m\u001B[0;34m[\u001B[0m\u001B[0;34m'identity_hate'\u001B[0m\u001B[0;34m]\u001B[0m \u001B[0;34m==\u001B[0m \u001B[0;36m1\u001B[0m\u001B[0;34m)\u001B[0m\u001B[0;34m:\u001B[0m\u001B[0;34m\u001B[0m\u001B[0;34m\u001B[0m\u001B[0m\n\u001B[1;32m      5\u001B[0m       \u001B[0mf\u001B[0m \u001B[0;34m=\u001B[0m \u001B[0mdf\u001B[0m\u001B[0;34m[\u001B[0m\u001B[0;34m\"comment_text\"\u001B[0m\u001B[0;34m]\u001B[0m\u001B[0;34m[\u001B[0m\u001B[0ma\u001B[0m\u001B[0;34m]\u001B[0m\u001B[0;34m\u001B[0m\u001B[0;34m\u001B[0m\u001B[0m\n\u001B[0;32m----> 6\u001B[0;31m       \u001B[0mfollowing_words\u001B[0m \u001B[0;34m=\u001B[0m \u001B[0mpredict\u001B[0m\u001B[0;34m(\u001B[0m\u001B[0mdataset\u001B[0m\u001B[0;34m,\u001B[0m \u001B[0mmodel\u001B[0m\u001B[0;34m,\u001B[0m \u001B[0mtext\u001B[0m\u001B[0;34m=\u001B[0m\u001B[0mf\u001B[0m\u001B[0;34m)\u001B[0m\u001B[0;34m\u001B[0m\u001B[0;34m\u001B[0m\u001B[0m\n\u001B[0m\u001B[1;32m      7\u001B[0m       \u001B[0msentence\u001B[0m \u001B[0;34m=\u001B[0m \u001B[0;34m' '\u001B[0m\u001B[0;34m.\u001B[0m\u001B[0mjoin\u001B[0m\u001B[0;34m(\u001B[0m\u001B[0mfollowing_words\u001B[0m\u001B[0;34m)\u001B[0m\u001B[0;34m\u001B[0m\u001B[0;34m\u001B[0m\u001B[0m\n\u001B[1;32m      8\u001B[0m       \u001B[0mdf\u001B[0m\u001B[0;34m[\u001B[0m\u001B[0;34m\"comment_text\"\u001B[0m\u001B[0;34m]\u001B[0m\u001B[0;34m[\u001B[0m\u001B[0ma\u001B[0m\u001B[0;34m]\u001B[0m \u001B[0;34m=\u001B[0m \u001B[0msentence\u001B[0m\u001B[0;34m\u001B[0m\u001B[0;34m\u001B[0m\u001B[0m\n",
      "\u001B[0;32m<ipython-input-16-93570ecae4ac>\u001B[0m in \u001B[0;36mpredict\u001B[0;34m(dataset, model, text, next_words)\u001B[0m\n\u001B[1;32m      7\u001B[0m     \u001B[0;32mfor\u001B[0m \u001B[0mi\u001B[0m \u001B[0;32min\u001B[0m \u001B[0mrange\u001B[0m\u001B[0;34m(\u001B[0m\u001B[0;36m0\u001B[0m\u001B[0;34m,\u001B[0m \u001B[0mnext_words\u001B[0m\u001B[0;34m)\u001B[0m\u001B[0;34m:\u001B[0m\u001B[0;34m\u001B[0m\u001B[0;34m\u001B[0m\u001B[0m\n\u001B[1;32m      8\u001B[0m         \u001B[0mx\u001B[0m \u001B[0;34m=\u001B[0m \u001B[0mtorch\u001B[0m\u001B[0;34m.\u001B[0m\u001B[0mtensor\u001B[0m\u001B[0;34m(\u001B[0m\u001B[0;34m[\u001B[0m\u001B[0;34m[\u001B[0m\u001B[0mdataset\u001B[0m\u001B[0;34m.\u001B[0m\u001B[0mword_to_index\u001B[0m\u001B[0;34m[\u001B[0m\u001B[0mw\u001B[0m\u001B[0;34m]\u001B[0m \u001B[0;32mfor\u001B[0m \u001B[0mw\u001B[0m \u001B[0;32min\u001B[0m \u001B[0mwords\u001B[0m\u001B[0;34m[\u001B[0m\u001B[0mi\u001B[0m\u001B[0;34m:\u001B[0m\u001B[0;34m]\u001B[0m\u001B[0;34m]\u001B[0m\u001B[0;34m]\u001B[0m\u001B[0;34m)\u001B[0m\u001B[0;34m\u001B[0m\u001B[0;34m\u001B[0m\u001B[0m\n\u001B[0;32m----> 9\u001B[0;31m         \u001B[0my_pred\u001B[0m\u001B[0;34m,\u001B[0m \u001B[0;34m(\u001B[0m\u001B[0mstate_h\u001B[0m\u001B[0;34m,\u001B[0m \u001B[0mstate_c\u001B[0m\u001B[0;34m)\u001B[0m \u001B[0;34m=\u001B[0m \u001B[0mmodel\u001B[0m\u001B[0;34m(\u001B[0m\u001B[0mx\u001B[0m\u001B[0;34m,\u001B[0m \u001B[0;34m(\u001B[0m\u001B[0mstate_h\u001B[0m\u001B[0;34m,\u001B[0m \u001B[0mstate_c\u001B[0m\u001B[0;34m)\u001B[0m\u001B[0;34m)\u001B[0m\u001B[0;34m\u001B[0m\u001B[0;34m\u001B[0m\u001B[0m\n\u001B[0m\u001B[1;32m     10\u001B[0m \u001B[0;34m\u001B[0m\u001B[0m\n\u001B[1;32m     11\u001B[0m         \u001B[0mlast_word_logits\u001B[0m \u001B[0;34m=\u001B[0m \u001B[0my_pred\u001B[0m\u001B[0;34m[\u001B[0m\u001B[0;36m0\u001B[0m\u001B[0;34m]\u001B[0m\u001B[0;34m[\u001B[0m\u001B[0;34m-\u001B[0m\u001B[0;36m1\u001B[0m\u001B[0;34m]\u001B[0m\u001B[0;34m\u001B[0m\u001B[0;34m\u001B[0m\u001B[0m\n",
      "\u001B[0;32m/usr/local/lib/python3.7/dist-packages/torch/nn/modules/module.py\u001B[0m in \u001B[0;36m_call_impl\u001B[0;34m(self, *input, **kwargs)\u001B[0m\n\u001B[1;32m   1128\u001B[0m         if not (self._backward_hooks or self._forward_hooks or self._forward_pre_hooks or _global_backward_hooks\n\u001B[1;32m   1129\u001B[0m                 or _global_forward_hooks or _global_forward_pre_hooks):\n\u001B[0;32m-> 1130\u001B[0;31m             \u001B[0;32mreturn\u001B[0m \u001B[0mforward_call\u001B[0m\u001B[0;34m(\u001B[0m\u001B[0;34m*\u001B[0m\u001B[0minput\u001B[0m\u001B[0;34m,\u001B[0m \u001B[0;34m**\u001B[0m\u001B[0mkwargs\u001B[0m\u001B[0;34m)\u001B[0m\u001B[0;34m\u001B[0m\u001B[0;34m\u001B[0m\u001B[0m\n\u001B[0m\u001B[1;32m   1131\u001B[0m         \u001B[0;31m# Do not call functions when jit is used\u001B[0m\u001B[0;34m\u001B[0m\u001B[0;34m\u001B[0m\u001B[0;34m\u001B[0m\u001B[0m\n\u001B[1;32m   1132\u001B[0m         \u001B[0mfull_backward_hooks\u001B[0m\u001B[0;34m,\u001B[0m \u001B[0mnon_full_backward_hooks\u001B[0m \u001B[0;34m=\u001B[0m \u001B[0;34m[\u001B[0m\u001B[0;34m]\u001B[0m\u001B[0;34m,\u001B[0m \u001B[0;34m[\u001B[0m\u001B[0;34m]\u001B[0m\u001B[0;34m\u001B[0m\u001B[0;34m\u001B[0m\u001B[0m\n",
      "\u001B[0;32m<ipython-input-12-95a5de12666e>\u001B[0m in \u001B[0;36mforward\u001B[0;34m(self, x, prev_state)\u001B[0m\n\u001B[1;32m     25\u001B[0m       \u001B[0membed\u001B[0m \u001B[0;34m=\u001B[0m \u001B[0mself\u001B[0m\u001B[0;34m.\u001B[0m\u001B[0membedding\u001B[0m\u001B[0;34m(\u001B[0m\u001B[0mx\u001B[0m\u001B[0;34m)\u001B[0m\u001B[0;34m\u001B[0m\u001B[0;34m\u001B[0m\u001B[0m\n\u001B[1;32m     26\u001B[0m       \u001B[0moutput\u001B[0m\u001B[0;34m,\u001B[0m \u001B[0mstate\u001B[0m \u001B[0;34m=\u001B[0m \u001B[0mself\u001B[0m\u001B[0;34m.\u001B[0m\u001B[0mlstm\u001B[0m\u001B[0;34m(\u001B[0m\u001B[0membed\u001B[0m\u001B[0;34m,\u001B[0m \u001B[0mprev_state\u001B[0m\u001B[0;34m)\u001B[0m\u001B[0;34m\u001B[0m\u001B[0;34m\u001B[0m\u001B[0m\n\u001B[0;32m---> 27\u001B[0;31m       \u001B[0mlogits\u001B[0m \u001B[0;34m=\u001B[0m \u001B[0mself\u001B[0m\u001B[0;34m.\u001B[0m\u001B[0mfc\u001B[0m\u001B[0;34m(\u001B[0m\u001B[0moutput\u001B[0m\u001B[0;34m)\u001B[0m\u001B[0;34m\u001B[0m\u001B[0;34m\u001B[0m\u001B[0m\n\u001B[0m\u001B[1;32m     28\u001B[0m       \u001B[0;32mreturn\u001B[0m \u001B[0mlogits\u001B[0m\u001B[0;34m,\u001B[0m \u001B[0mstate\u001B[0m\u001B[0;34m\u001B[0m\u001B[0;34m\u001B[0m\u001B[0m\n\u001B[1;32m     29\u001B[0m \u001B[0;34m\u001B[0m\u001B[0m\n",
      "\u001B[0;32m/usr/local/lib/python3.7/dist-packages/torch/nn/modules/module.py\u001B[0m in \u001B[0;36m_call_impl\u001B[0;34m(self, *input, **kwargs)\u001B[0m\n\u001B[1;32m   1128\u001B[0m         if not (self._backward_hooks or self._forward_hooks or self._forward_pre_hooks or _global_backward_hooks\n\u001B[1;32m   1129\u001B[0m                 or _global_forward_hooks or _global_forward_pre_hooks):\n\u001B[0;32m-> 1130\u001B[0;31m             \u001B[0;32mreturn\u001B[0m \u001B[0mforward_call\u001B[0m\u001B[0;34m(\u001B[0m\u001B[0;34m*\u001B[0m\u001B[0minput\u001B[0m\u001B[0;34m,\u001B[0m \u001B[0;34m**\u001B[0m\u001B[0mkwargs\u001B[0m\u001B[0;34m)\u001B[0m\u001B[0;34m\u001B[0m\u001B[0;34m\u001B[0m\u001B[0m\n\u001B[0m\u001B[1;32m   1131\u001B[0m         \u001B[0;31m# Do not call functions when jit is used\u001B[0m\u001B[0;34m\u001B[0m\u001B[0;34m\u001B[0m\u001B[0;34m\u001B[0m\u001B[0m\n\u001B[1;32m   1132\u001B[0m         \u001B[0mfull_backward_hooks\u001B[0m\u001B[0;34m,\u001B[0m \u001B[0mnon_full_backward_hooks\u001B[0m \u001B[0;34m=\u001B[0m \u001B[0;34m[\u001B[0m\u001B[0;34m]\u001B[0m\u001B[0;34m,\u001B[0m \u001B[0;34m[\u001B[0m\u001B[0;34m]\u001B[0m\u001B[0;34m\u001B[0m\u001B[0;34m\u001B[0m\u001B[0m\n",
      "\u001B[0;32m/usr/local/lib/python3.7/dist-packages/torch/nn/modules/linear.py\u001B[0m in \u001B[0;36mforward\u001B[0;34m(self, input)\u001B[0m\n\u001B[1;32m    112\u001B[0m \u001B[0;34m\u001B[0m\u001B[0m\n\u001B[1;32m    113\u001B[0m     \u001B[0;32mdef\u001B[0m \u001B[0mforward\u001B[0m\u001B[0;34m(\u001B[0m\u001B[0mself\u001B[0m\u001B[0;34m,\u001B[0m \u001B[0minput\u001B[0m\u001B[0;34m:\u001B[0m \u001B[0mTensor\u001B[0m\u001B[0;34m)\u001B[0m \u001B[0;34m->\u001B[0m \u001B[0mTensor\u001B[0m\u001B[0;34m:\u001B[0m\u001B[0;34m\u001B[0m\u001B[0;34m\u001B[0m\u001B[0m\n\u001B[0;32m--> 114\u001B[0;31m         \u001B[0;32mreturn\u001B[0m \u001B[0mF\u001B[0m\u001B[0;34m.\u001B[0m\u001B[0mlinear\u001B[0m\u001B[0;34m(\u001B[0m\u001B[0minput\u001B[0m\u001B[0;34m,\u001B[0m \u001B[0mself\u001B[0m\u001B[0;34m.\u001B[0m\u001B[0mweight\u001B[0m\u001B[0;34m,\u001B[0m \u001B[0mself\u001B[0m\u001B[0;34m.\u001B[0m\u001B[0mbias\u001B[0m\u001B[0;34m)\u001B[0m\u001B[0;34m\u001B[0m\u001B[0;34m\u001B[0m\u001B[0m\n\u001B[0m\u001B[1;32m    115\u001B[0m \u001B[0;34m\u001B[0m\u001B[0m\n\u001B[1;32m    116\u001B[0m     \u001B[0;32mdef\u001B[0m \u001B[0mextra_repr\u001B[0m\u001B[0;34m(\u001B[0m\u001B[0mself\u001B[0m\u001B[0;34m)\u001B[0m \u001B[0;34m->\u001B[0m \u001B[0mstr\u001B[0m\u001B[0;34m:\u001B[0m\u001B[0;34m\u001B[0m\u001B[0;34m\u001B[0m\u001B[0m\n",
      "\u001B[0;31mKeyboardInterrupt\u001B[0m: "
     ]
    }
   ]
  },
  {
   "cell_type": "code",
   "execution_count": 46,
   "metadata": {
    "id": "ouDCO8iE4wkX",
    "pycharm": {
     "name": "#%%\n"
    }
   },
   "outputs": [],
   "source": [
    "from torch.utils.data import IterableDataset\n",
    "\n",
    "tokenizer = get_tokenizer(\"basic_english\")\n",
    "\n",
    "\n",
    "\n",
    "class MyDataset(Dataset):\n",
    "\n",
    "    def __init__(self, dataframe, max_len=100, pad_token='<pad>'):\n",
    "         self.X = dataframe['comment_text'].values\n",
    "         self.Y = dataframe[classes].to_numpy()\n",
    "         self.max_len = max_len\n",
    "         self.pad_token = pad_token\n",
    "         # self.unk_token = unk_token\n",
    "\n",
    "    def __len__(self):\n",
    "        return len(self.X)\n",
    "\n",
    "    def __getitem__(self, idx):\n",
    "        t = idx\n",
    "        tokens = tokenizer(self.X[t])[:self.max_len]\n",
    "\n",
    "        diff = self.max_len - len(tokens)\n",
    "        # print('diff',diff)\n",
    "        if diff > 0:\n",
    "\n",
    "            tokens = [self.pad_token] * diff + tokens\n",
    "            # print('tokens',to\n",
    "        indices = glove_vocab(tokens)\n",
    "        result = {\n",
    "            'text': tokens,\n",
    "            'indices': torch.tensor(indices),\n",
    "            'labels': torch.tensor(self.Y[t], dtype=torch.float)\n",
    "        }\n",
    "        return result\n"
   ]
  },
  {
   "cell_type": "code",
   "execution_count": 47,
   "metadata": {
    "id": "tcNFIGEW4wkY",
    "pycharm": {
     "name": "#%%\n"
    }
   },
   "outputs": [],
   "source": [
    "MAX_LEN = 0\n",
    "for a in range(0 , len(df)):\n",
    "    f = df[\"comment_text\"][a]\n",
    "    length = len(f.split())\n",
    "    if length > MAX_LEN:\n",
    "        MAX_LEN = length\n",
    "        \n",
    "train_dataset = MyDataset(df, MAX_LEN)\n",
    "test_dataset = MyDataset(test_df, MAX_LEN)"
   ]
  },
  {
   "cell_type": "code",
   "execution_count": 25,
   "metadata": {
    "id": "5U8HPlww4wkZ",
    "scrolled": true,
    "colab": {
     "base_uri": "https://localhost:8080/"
    },
    "outputId": "013c527b-a9d3-465f-99a2-3e1180066744",
    "pycharm": {
     "name": "#%%\n"
    }
   },
   "outputs": [
    {
     "output_type": "stream",
     "name": "stdout",
     "text": [
      "[\"Explanation  Why the edits made under my username Hardcore Metallica Fan were reverted? They weren't vandalisms, just closure on some GAs after I voted at New York Dolls FAC And please don't remove the template from the talk page since I'm retired now\"\n",
      " \"D'aww! He matches this background colour I'm seemingly stuck with Thanks  (talk) :, January ,  (UTC)\"\n",
      " \"Hey man, I'm really not trying to edit war It's just that this guy is constantly removing relevant information and talking to me through edits instead of my talk page He seems to care more about the formatting than the actual info\"\n",
      " ...\n",
      " 'Spitzer     Umm, theres no actual article for prostitution ring  - Crunch Captain'\n",
      " 'And it looks like it was actually you who put on the speedy to have the first version deleted now that I look at it'\n",
      " '\"  And  I came here and my idea was bad right away  What kind of community goes \"\"you have bad ideas\"\" go away, instead of helping rewrite them   \"']\n"
     ]
    }
   ],
   "source": [
    "print(df['comment_text'].values)"
   ]
  },
  {
   "cell_type": "code",
   "execution_count": 48,
   "metadata": {
    "id": "PnoVkv2Q4wkZ",
    "colab": {
     "base_uri": "https://localhost:8080/"
    },
    "outputId": "75ae1623-d402-43d8-ee1f-f400e519e512",
    "pycharm": {
     "name": "#%%\n"
    }
   },
   "outputs": [
    {
     "output_type": "execute_result",
     "data": {
      "text/plain": [
       "265"
      ]
     },
     "metadata": {},
     "execution_count": 48
    }
   ],
   "source": [
    "MAX_LEN"
   ]
  },
  {
   "cell_type": "code",
   "execution_count": 14,
   "metadata": {
    "id": "obLMXDfI4wka",
    "colab": {
     "base_uri": "https://localhost:8080/"
    },
    "outputId": "454f2efb-431c-4a80-eca6-d632020d15a1",
    "pycharm": {
     "name": "#%%\n"
    }
   },
   "outputs": [
    {
     "output_type": "stream",
     "name": "stdout",
     "text": [
      "['<pad>', '<pad>', '<pad>', '<pad>', '<pad>', '<pad>', '<pad>', '<pad>', '<pad>', '<pad>', '<pad>', '<pad>', '<pad>', '<pad>', '<pad>', '<pad>', '<pad>', '<pad>', '<pad>', '<pad>', '<pad>', '<pad>', '<pad>', '<pad>', '<pad>', '<pad>', '<pad>', '<pad>', '<pad>', '<pad>', '<pad>', '<pad>', '<pad>', '<pad>', '<pad>', '<pad>', '<pad>', '<pad>', '<pad>', '<pad>', '<pad>', '<pad>', '<pad>', '<pad>', '<pad>', '<pad>', '<pad>', '<pad>', '<pad>', '<pad>', '<pad>', '<pad>', '<pad>', '<pad>', '<pad>', '<pad>', '<pad>', '<pad>', '<pad>', '<pad>', '<pad>', '<pad>', '<pad>', '<pad>', '<pad>', '<pad>', '<pad>', '<pad>', '<pad>', '<pad>', '<pad>', '<pad>', '<pad>', '<pad>', '<pad>', '<pad>', '<pad>', '<pad>', '<pad>', '<pad>', '<pad>', '<pad>', '<pad>', '<pad>', '<pad>', '<pad>', '<pad>', '<pad>', '<pad>', '<pad>', '<pad>', '<pad>', '<pad>', '<pad>', '<pad>', '<pad>', '<pad>', '<pad>', '<pad>', '<pad>', '<pad>', '<pad>', '<pad>', '<pad>', '<pad>', '<pad>', '<pad>', '<pad>', '<pad>', '<pad>', '<pad>', '<pad>', '<pad>', '<pad>', '<pad>', '<pad>', '<pad>', '<pad>', '<pad>', '<pad>', '<pad>', '<pad>', '<pad>', '<pad>', '<pad>', '<pad>', '<pad>', '<pad>', '<pad>', '<pad>', '<pad>', '<pad>', '<pad>', '<pad>', '<pad>', '<pad>', '<pad>', '<pad>', '<pad>', '<pad>', '<pad>', '<pad>', '<pad>', '<pad>', '<pad>', '<pad>', '<pad>', '<pad>', '<pad>', '<pad>', '<pad>', '<pad>', '<pad>', '<pad>', '<pad>', '<pad>', '<pad>', '<pad>', '<pad>', '<pad>', '<pad>', '<pad>', '<pad>', '<pad>', '<pad>', '<pad>', '<pad>', '<pad>', '<pad>', '<pad>', '<pad>', '<pad>', '<pad>', '<pad>', '<pad>', '<pad>', '<pad>', '<pad>', '<pad>', '<pad>', '<pad>', '<pad>', '<pad>', '<pad>', '<pad>', '<pad>', '<pad>', '<pad>', '<pad>', '<pad>', '<pad>', '<pad>', '<pad>', '<pad>', '<pad>', '<pad>', '<pad>', '<pad>', '<pad>', '<pad>', '<pad>', '<pad>', '<pad>', '<pad>', '<pad>', '<pad>', '<pad>', '<pad>', '<pad>', '<pad>', '<pad>', '<pad>', '<pad>', '<pad>', '<pad>', '<pad>', '<pad>', '<pad>', '<pad>', '<pad>', '<pad>', '<pad>', '<pad>', '<pad>', '<pad>', '<pad>', '<pad>', '<pad>', '<pad>', '<pad>', '<pad>', '<pad>', '<pad>', '<pad>', '<pad>', '<pad>', '<pad>', '<pad>', '<pad>', '<pad>', '<pad>', '<pad>', '<pad>', '<pad>', '<pad>', '<pad>', '<pad>', '<pad>', '<pad>', 'thank', 'you', 'for', 'understanding', 'i', 'think', 'very', 'highly', 'of', 'you', 'and', 'would', 'not', 'revert', 'without', 'discussion']\n",
      "tensor([0., 0., 0., 0., 0., 0.])\n",
      "tensor([     0,      0,      0,      0,      0,      0,      0,      0,      0,\n",
      "             0,      0,      0,      0,      0,      0,      0,      0,      0,\n",
      "             0,      0,      0,      0,      0,      0,      0,      0,      0,\n",
      "             0,      0,      0,      0,      0,      0,      0,      0,      0,\n",
      "             0,      0,      0,      0,      0,      0,      0,      0,      0,\n",
      "             0,      0,      0,      0,      0,      0,      0,      0,      0,\n",
      "             0,      0,      0,      0,      0,      0,      0,      0,      0,\n",
      "             0,      0,      0,      0,      0,      0,      0,      0,      0,\n",
      "             0,      0,      0,      0,      0,      0,      0,      0,      0,\n",
      "             0,      0,      0,      0,      0,      0,      0,      0,      0,\n",
      "             0,      0,      0,      0,      0,      0,      0,      0,      0,\n",
      "             0,      0,      0,      0,      0,      0,      0,      0,      0,\n",
      "             0,      0,      0,      0,      0,      0,      0,      0,      0,\n",
      "             0,      0,      0,      0,      0,      0,      0,      0,      0,\n",
      "             0,      0,      0,      0,      0,      0,      0,      0,      0,\n",
      "             0,      0,      0,      0,      0,      0,      0,      0,      0,\n",
      "             0,      0,      0,      0,      0,      0,      0,      0,      0,\n",
      "             0,      0,      0,      0,      0,      0,      0,      0,      0,\n",
      "             0,      0,      0,      0,      0,      0,      0,      0,      0,\n",
      "             0,      0,      0,      0,      0,      0,      0,      0,      0,\n",
      "             0,      0,      0,      0,      0,      0,      0,      0,      0,\n",
      "             0,      0,      0,      0,      0,      0,      0,      0,      0,\n",
      "             0,      0,      0,      0,      0,      0,      0,      0,      0,\n",
      "             0,      0,      0,      0,      0,      0,      0,      0,      0,\n",
      "             0,      0,      0,      0,      0,      0,      0,      0,      0,\n",
      "             0,      0,      0,      0,      0,      0,      0,      0,      0,\n",
      "             0,      0,      0,      0,      0,      0,      0,      0,      0,\n",
      "             0,      0,      0,      0,      0,      0,    337,     15,     37,\n",
      "          8801,     10,    186,    520,   8633,     39,     15,     26,    196,\n",
      "            78, 132579,    663,  11903])\n"
     ]
    }
   ],
   "source": [
    "for data in test_dataset:\n",
    "    print(data['text'])\n",
    "    print(data['labels'])\n",
    "    print(data['indices'])\n",
    "    break"
   ]
  },
  {
   "cell_type": "code",
   "execution_count": 49,
   "metadata": {
    "id": "rtdt6ar84wka",
    "pycharm": {
     "name": "#%%\n"
    }
   },
   "outputs": [],
   "source": [
    "postive_num = [0, 0, 0, 0, 0, 0]\n",
    "negative_num = [0, 0, 0, 0, 0, 0]\n",
    "for data in train_dataset:\n",
    "    class_num = 0\n",
    "    for i in data['labels'].tolist():\n",
    "      if i == 0:\n",
    "        negative_num[class_num] += 1\n",
    "      else:\n",
    "        postive_num[class_num] += 1\n",
    "      class_num += 1\n"
   ]
  },
  {
   "cell_type": "code",
   "source": [
    "print(postive_num)\n",
    "print(negative_num)"
   ],
   "metadata": {
    "colab": {
     "base_uri": "https://localhost:8080/"
    },
    "id": "NxBBVDjtg_QJ",
    "outputId": "fce7bae7-3c03-404a-dffb-d805de572721",
    "pycharm": {
     "name": "#%%\n"
    }
   },
   "execution_count": 50,
   "outputs": [
    {
     "output_type": "stream",
     "name": "stdout",
     "text": [
      "[15294, 1595, 8449, 478, 7877, 1405]\n",
      "[144277, 157976, 151122, 159093, 151694, 158166]\n"
     ]
    }
   ]
  },
  {
   "cell_type": "code",
   "source": [
    "'''\n",
    "import numpy as np\n",
    "\n",
    "neg_weight_set = (1 - 0.9999) / (1 - np.power(0.9999, negative_num))\n",
    "pos_weight_set = (1 - 0.9999) / (1 - np.power(0.9999, postive_num))\n",
    "#weight_set = neg_weight_set / pos_weight_set\n",
    "weight_set = np.sqrt(negative_num / postive_num)\n",
    "print(\"weight_set: \", weight_set)\n",
    "print(neg_weight_set)\n",
    "print(pos_weight_set)\n",
    "'''"
   ],
   "metadata": {
    "id": "QN7I5NwreW1W",
    "pycharm": {
     "name": "#%%\n"
    }
   },
   "execution_count": null,
   "outputs": []
  },
  {
   "cell_type": "code",
   "source": [
    "import numpy as np\n",
    "\n",
    "pos_weight_set = [0, 0, 0, 0, 0, 0]\n",
    "neg_weight_set = [0, 0, 0, 0, 0, 0]\n",
    "weight_set = [0, 0, 0, 0, 0, 0]\n",
    "weight_set_sqrt = [0, 0, 0, 0, 0, 0]\n",
    "for num in range(len(postive_num)):\n",
    "  #weight_set[num] = negative_num[num] / postive_num[num]\n",
    "  pos_weight_set[num] = (1 - 0.9999) / (1 - np.power(0.9999, postive_num[num]))\n",
    "  neg_weight_set[num] = (1 - 0.9999) / (1 - np.power(0.9999, negative_num[num]))\n",
    "  weight_set[num] =  pos_weight_set[num] / neg_weight_set[num]\n",
    "  weight_set_sqrt[num] =  np.sqrt(negative_num[num] / postive_num[num])\n",
    "print(\"pos_weight_set: \", pos_weight_set)\n",
    "print(\"neg_weight_set: \", neg_weight_set)\n",
    "print(\"weight_set: \", weight_set)\n",
    "print(\"weight_set_sqrt: \", weight_set_sqrt)"
   ],
   "metadata": {
    "colab": {
     "base_uri": "https://localhost:8080/"
    },
    "id": "D1ZXMXsHhMZd",
    "outputId": "9710e130-e6a8-4b48-b57f-b6b1872689d9",
    "pycharm": {
     "name": "#%%\n"
    }
   },
   "execution_count": 51,
   "outputs": [
    {
     "output_type": "stream",
     "name": "stdout",
     "text": [
      "pos_weight_set:  [0.00012765670498582926, 0.0006782565689779384, 0.00017531008706273365, 0.0021423439430321733, 0.0001834431287148764, 0.0007628786912533018]\n",
      "neg_weight_set:  [0.00010000005417717257, 0.00010000001376721648, 0.00010000002732289386, 0.00010000001231212383, 0.0001000000258038074, 0.00010000001350809561]\n",
      "weight_set:  [1.2765663582507336, 6.782564756009011, 1.7531003916295773, 21.423436792641667, 1.8344308137957697, 7.6287858820293275]\n",
      "weight_set_sqrt:  [3.071411519116151, 9.952111037693614, 4.229228899698583, 18.243643932423545, 4.388375471505747, 10.610073773561947]\n"
     ]
    }
   ]
  },
  {
   "cell_type": "code",
   "execution_count": 52,
   "metadata": {
    "id": "i7E9HKAe4wkb",
    "pycharm": {
     "name": "#%%\n"
    }
   },
   "outputs": [],
   "source": [
    "\n",
    "\n",
    "class TextClassificationModel(nn.Module):\n",
    "\n",
    "    def __init__(self, pretrained_embeddings, num_class, hidden_size, freeze_embeddings = True):\n",
    "        super(TextClassificationModel, self).__init__()\n",
    "        self.hidden_size = hidden_size\n",
    "        self.embedding = nn.Embedding.from_pretrained(pretrained_embeddings, freeze = freeze_embeddings, sparse=False)\n",
    "\n",
    "        # print(pretrained_embeddings.shape)\n",
    "\n",
    "        self.lstm = nn.LSTM(pretrained_embeddings.shape[1], hidden_size, num_layers=4, bidirectional=True, dropout=0.2)\n",
    "        self.fc1 = nn.Linear(hidden_size * 4, hidden_size * 2)\n",
    "        self.fc2 = nn.Linear(hidden_size * 2, num_class)\n",
    "        self.sigmoid = nn.Sigmoid()\n",
    "        self.dropout = nn.Dropout(p=0.2)\n",
    "        \n",
    "        self.LN = nn.LayerNorm(hidden_size * 4)\n",
    "        self.LN2 = nn.LayerNorm(hidden_size * 2)\n",
    "\n",
    "    #def attention_net(self, lstm_output):\n",
    "    #    attn_weight_matrix = self.W_s2(torch.tanh(self.W_s1(lstm_output)))\n",
    "    #    attn_weight_matrix = attn_weight_matrix.permute(0, 2, 1)\n",
    "    #    attn_weight_matrix = nn.functional.softmax(attn_weight_matrix, dim=2)\n",
    "    #    return attn_weight_matrix\n",
    "\n",
    "    def forward(self, indices):\n",
    "        #print('input', indices.shape)\n",
    "\n",
    "        embedded = self.embedding(indices.T)\n",
    "        # print('embedded', embedded.shape)\n",
    "        self.lstm.flatten_parameters()\n",
    "        lstm_out, _ = self.lstm(embedded)\n",
    "\n",
    "        encoding = torch.cat((lstm_out[0], lstm_out[-1]), dim=1)\n",
    "        \n",
    "        out = self.LN(encoding)\n",
    "        out = self.fc1(out)\n",
    "        out = self.LN2(out)\n",
    "        out = self.dropout(out)\n",
    "        out = self.fc2(out)\n",
    "\n",
    "        #print('output', out.shape)\n",
    "\n",
    "\n",
    "        #out = self.sigmoid(out)\n",
    "        #print('out', out)\n",
    "\n",
    "        return out"
   ]
  },
  {
   "cell_type": "code",
   "execution_count": null,
   "metadata": {
    "id": "g0lpfI_U4wkb",
    "pycharm": {
     "name": "#%%\n"
    }
   },
   "outputs": [],
   "source": [
    "'''\n",
    "import torch.nn.functional as F\n",
    "\n",
    "class TextClassificationModel(nn.Module):\n",
    "\n",
    "    def __init__(self, pretrained_embeddings, num_class, hidden_size, freeze_embeddings = True):\n",
    "        super(TextClassificationModel, self).__init__()\n",
    "        self.hidden_size = hidden_size\n",
    "        self.embedding = nn.Embedding.from_pretrained(pretrained_embeddings, freeze = freeze_embeddings, sparse=False)\n",
    "\n",
    "        # print(pretrained_embeddings.shape)\n",
    "\n",
    "        self.lstm = nn.LSTM(pretrained_embeddings.shape[1], hidden_size, num_layers=4, bidirectional=True, dropout=0.5)\n",
    "        self.fc1 = nn.Linear(hidden_size * 4, hidden_size * 2)\n",
    "        self.fc2 = nn.Linear(hidden_size * 2, num_class)\n",
    "        self.sigmoid = nn.Sigmoid()\n",
    "        self.dropout = nn.Dropout(p=0.2)\n",
    "        \n",
    "        self.LN = nn.LayerNorm(hidden_size * 4)\n",
    "        self.LN2 = nn.LayerNorm(hidden_size * 2)\n",
    "        self.attn = nn.Linear(hidden_size, hidden_size)\n",
    "\n",
    "    #def attention_net(self, lstm_output):\n",
    "    #    attn_weight_matrix = self.W_s2(torch.tanh(self.W_s1(lstm_output)))\n",
    "    #    attn_weight_matrix = attn_weight_matrix.permute(0, 2, 1)\n",
    "    #    attn_weight_matrix = nn.functional.softmax(attn_weight_matrix, dim=2)\n",
    "    #    return attn_weight_matrix\n",
    "\n",
    "    def forward(self, indices):\n",
    "        #print('input', indices.shape)\n",
    "\n",
    "        embedded = self.embedding(indices.T)\n",
    "        # print('embedded', embedded.shape)\n",
    "        self.lstm.flatten_parameters()\n",
    "        lstm_out, _ = self.lstm(embedded)\n",
    "        print(\"lstm_out size: \", lstm_out.size())\n",
    "        x = lstm_out.squeeze()\n",
    "        content_vectors = [x[0].view(1, -1)]\n",
    "        # for-loop over hidden states and attention\n",
    "        for i in range(1, x.size(0)):\n",
    "            prev_states = x[:i]\n",
    "            current_state = x[i].view(1, -1)\n",
    "            atten = self.attn(current_state)\n",
    "            attn_prod = torch.mm(atten, prev_states.t())\n",
    "            attn_weights = F.softmax(attn_prod, dim=1)\n",
    "            context = torch.mm(attn_weights, prev_states)\n",
    "            content_vectors.append(context)\n",
    "\n",
    "        \n",
    "        #encoding = torch.cat((lstm_out[0], lstm_out[-1]), dim=1)\n",
    "\n",
    "        encoding = torch.cat(content_vectors)\n",
    "        out = self.LN(encoding)\n",
    "        out = self.fc1(out)\n",
    "        out = self.LN2(out)\n",
    "        out = self.dropout(out)\n",
    "        out = self.fc2(out)\n",
    "        \n",
    "\n",
    "        #print('output', out.shape)\n",
    "\n",
    "\n",
    "        #out = self.sigmoid(out)\n",
    "        #print('out', out)\n",
    "\n",
    "        return out\n",
    "'''"
   ]
  },
  {
   "cell_type": "code",
   "execution_count": 53,
   "metadata": {
    "id": "PgmFKOVg4wkc",
    "colab": {
     "base_uri": "https://localhost:8080/"
    },
    "outputId": "a1270102-4c31-4dd5-d3d5-67e1b4854f8c",
    "pycharm": {
     "name": "#%%\n"
    }
   },
   "outputs": [
    {
     "output_type": "execute_result",
     "data": {
      "text/plain": [
       "<__main__.MyDataset at 0x7fdef6b31bd0>"
      ]
     },
     "metadata": {},
     "execution_count": 53
    }
   ],
   "source": [
    "train_dataset"
   ]
  },
  {
   "cell_type": "code",
   "execution_count": null,
   "metadata": {
    "id": "vj7QfmCu4wkc",
    "pycharm": {
     "name": "#%%\n"
    }
   },
   "outputs": [],
   "source": [
    "## OK let's try to run this model to see if dimensions are correct!\n",
    "#glove_model = TextClassificationModel(pretrained_embeddings, len(classes), hidden_size=64, is_batch=False)\n",
    "\n",
    "#for idx, data in enumerate(train_dataset):\n",
    "#    print(\"---------------------------------\")\n",
    "#    print('next example id ', idx)\n",
    "#    print(\"---------------------------------\")\n",
    "#    # example_text = data['text']\n",
    "#    text_input = data['indices']\n",
    "    # print('tensor_shape: ', text_input.shape)\n",
    "#    model_output = glove_model(text_input)\n",
    "    # fwd = glove_model.forward(text_input)\n",
    "    # print('embedding_bag: ',  fwd.shape)\n",
    "    # print('output_shape: ', model_output.shape)\n",
    "#    print('output: ', model_output)\n",
    "\n",
    "    #if idx == 2:\n",
    "#    break"
   ]
  },
  {
   "cell_type": "code",
   "execution_count": 54,
   "metadata": {
    "id": "JYDYgyPa4wkc",
    "pycharm": {
     "name": "#%%\n"
    }
   },
   "outputs": [],
   "source": [
    "from torch.utils.data import DataLoader\n",
    "\n",
    "\n",
    "BATCH_SIZE = 256\n",
    "\n",
    "train_dataloader = DataLoader(train_dataset, batch_size=BATCH_SIZE, shuffle=True)\n",
    "test_dataloader = DataLoader(test_dataset, batch_size=BATCH_SIZE, shuffle=False)"
   ]
  },
  {
   "cell_type": "code",
   "execution_count": 55,
   "metadata": {
    "id": "4TmlJhh94wkc",
    "pycharm": {
     "name": "#%%\n"
    }
   },
   "outputs": [],
   "source": [
    "from torch.optim import AdamW\n",
    "from torch.optim.lr_scheduler import StepLR\n",
    "import matplotlib.pyplot as plt"
   ]
  },
  {
   "cell_type": "code",
   "execution_count": null,
   "metadata": {
    "id": "xjysw7yq4wkd",
    "pycharm": {
     "name": "#%%\n"
    }
   },
   "outputs": [],
   "source": []
  },
  {
   "cell_type": "code",
   "execution_count": null,
   "metadata": {
    "id": "ENEQnNQt4wkd",
    "pycharm": {
     "name": "#%%\n"
    }
   },
   "outputs": [],
   "source": []
  },
  {
   "cell_type": "code",
   "execution_count": null,
   "metadata": {
    "id": "ZAuO72yn4wkd",
    "colab": {
     "base_uri": "https://localhost:8080/",
     "height": 1000
    },
    "outputId": "52a68248-927d-4dcb-db78-7bd6bbbfc324",
    "pycharm": {
     "name": "#%%\n"
    }
   },
   "outputs": [
    {
     "output_type": "stream",
     "name": "stdout",
     "text": [
      "               precision    recall  f1-score   support\n",
      "\n",
      "        toxic       0.62      0.01      0.01      6090\n",
      " severe_toxic       0.21      0.01      0.02       367\n",
      "      obscene       0.38      0.00      0.00      3691\n",
      "       threat       0.00      0.00      0.00       211\n",
      "       insult       0.48      0.00      0.01      3427\n",
      "identity_hate       0.00      0.00      0.00       712\n",
      "\n",
      "    micro avg       0.46      0.00      0.01     14498\n",
      "    macro avg       0.28      0.00      0.01     14498\n",
      " weighted avg       0.48      0.00      0.01     14498\n",
      "  samples avg       0.00      0.00      0.00     14498\n",
      "\n",
      "Epoch: 0 Train_Loss: 0.2856596191533101 Train_Accuracy: 0.9632034301757812\n",
      "Epoch: 0 Test_Loss: 0.24826916971802712 Test_Accuracy: 0.9622058272361755\n"
     ]
    },
    {
     "output_type": "display_data",
     "data": {
      "text/plain": [
       "<Figure size 432x288 with 2 Axes>"
      ],
      "image/png": "[encoded data removed]"
     },
     "metadata": {
      "needs_background": "light"
     }
    },
    {
     "output_type": "stream",
     "name": "stdout",
     "text": [
      "               precision    recall  f1-score   support\n",
      "\n",
      "        toxic       0.59      0.16      0.26      6090\n",
      " severe_toxic       0.21      0.25      0.23       367\n",
      "      obscene       0.62      0.14      0.23      3691\n",
      "       threat       0.07      0.07      0.07       211\n",
      "       insult       0.60      0.14      0.23      3427\n",
      "identity_hate       0.21      0.07      0.11       712\n",
      "\n",
      "    micro avg       0.51      0.15      0.23     14498\n",
      "    macro avg       0.38      0.14      0.19     14498\n",
      " weighted avg       0.57      0.15      0.23     14498\n",
      "  samples avg       0.01      0.01      0.01     14498\n",
      "\n",
      "Epoch: 1 Train_Loss: 0.21169278505616462 Train_Accuracy: 0.964012861251831\n",
      "Epoch: 1 Test_Loss: 0.21804924049973487 Test_Accuracy: 0.9625001549720764\n"
     ]
    },
    {
     "output_type": "display_data",
     "data": {
      "text/plain": [
       "<Figure size 432x288 with 2 Axes>"
      ],
      "image/png": "[encoded data removed]"
     },
     "metadata": {
      "needs_background": "light"
     }
    },
    {
     "output_type": "stream",
     "name": "stdout",
     "text": [
      "               precision    recall  f1-score   support\n",
      "\n",
      "        toxic       0.75      0.19      0.30      6090\n",
      " severe_toxic       0.23      0.47      0.31       367\n",
      "      obscene       0.75      0.18      0.29      3691\n",
      "       threat       0.11      0.15      0.13       211\n",
      "       insult       0.70      0.19      0.30      3427\n",
      "identity_hate       0.24      0.11      0.15       712\n",
      "\n",
      "    micro avg       0.58      0.19      0.29     14498\n",
      "    macro avg       0.46      0.22      0.25     14498\n",
      " weighted avg       0.69      0.19      0.29     14498\n",
      "  samples avg       0.01      0.01      0.01     14498\n",
      "\n",
      "Epoch: 2 Train_Loss: 0.18283230860311633 Train_Accuracy: 0.9665467739105225\n",
      "Epoch: 2 Test_Loss: 0.20633593052625657 Test_Accuracy: 0.9642872214317322\n"
     ]
    },
    {
     "output_type": "display_data",
     "data": {
      "text/plain": [
       "<Figure size 432x288 with 2 Axes>"
      ],
      "image/png": "[encoded data removed]"
     },
     "metadata": {
      "needs_background": "light"
     }
    },
    {
     "output_type": "stream",
     "name": "stdout",
     "text": [
      "               precision    recall  f1-score   support\n",
      "\n",
      "        toxic       0.69      0.25      0.37      6090\n",
      " severe_toxic       0.26      0.40      0.32       367\n",
      "      obscene       0.73      0.25      0.37      3691\n",
      "       threat       0.10      0.29      0.15       211\n",
      "       insult       0.66      0.26      0.38      3427\n",
      "identity_hate       0.25      0.12      0.16       712\n",
      "\n",
      "    micro avg       0.57      0.25      0.35     14498\n",
      "    macro avg       0.45      0.26      0.29     14498\n",
      " weighted avg       0.65      0.25      0.36     14498\n",
      "  samples avg       0.02      0.02      0.02     14498\n",
      "\n",
      "Epoch: 3 Train_Loss: 0.16986947119809115 Train_Accuracy: 0.968020498752594\n",
      "Epoch: 3 Test_Loss: 0.1972203458249569 Test_Accuracy: 0.9646910429000854\n"
     ]
    },
    {
     "output_type": "display_data",
     "data": {
      "text/plain": [
       "<Figure size 432x288 with 2 Axes>"
      ],
      "image/png": "[encoded data removed]"
     },
     "metadata": {
      "needs_background": "light"
     }
    },
    {
     "output_type": "stream",
     "name": "stdout",
     "text": [
      "               precision    recall  f1-score   support\n",
      "\n",
      "        toxic       0.74      0.26      0.39      6090\n",
      " severe_toxic       0.24      0.51      0.33       367\n",
      "      obscene       0.74      0.28      0.41      3691\n",
      "       threat       0.22      0.16      0.19       211\n",
      "       insult       0.69      0.27      0.39      3427\n",
      "identity_hate       0.25      0.19      0.21       712\n",
      "\n",
      "    micro avg       0.61      0.27      0.37     14498\n",
      "    macro avg       0.48      0.28      0.32     14498\n",
      " weighted avg       0.68      0.27      0.38     14498\n",
      "  samples avg       0.02      0.02      0.02     14498\n",
      "\n",
      "Epoch: 4 Train_Loss: 0.16144599361966053 Train_Accuracy: 0.9691986441612244\n",
      "Epoch: 4 Test_Loss: 0.1958619335591793 Test_Accuracy: 0.9659727215766907\n"
     ]
    },
    {
     "output_type": "display_data",
     "data": {
      "text/plain": [
       "<Figure size 432x288 with 2 Axes>"
      ],
      "image/png": "[encoded data removed]"
     },
     "metadata": {
      "needs_background": "light"
     }
    },
    {
     "output_type": "stream",
     "name": "stdout",
     "text": [
      "               precision    recall  f1-score   support\n",
      "\n",
      "        toxic       0.66      0.34      0.45      6090\n",
      " severe_toxic       0.22      0.57      0.32       367\n",
      "      obscene       0.68      0.38      0.48      3691\n",
      "       threat       0.18      0.33      0.23       211\n",
      "       insult       0.63      0.36      0.46      3427\n",
      "identity_hate       0.25      0.20      0.23       712\n",
      "\n",
      "    micro avg       0.57      0.35      0.43     14498\n",
      "    macro avg       0.44      0.36      0.36     14498\n",
      " weighted avg       0.62      0.35      0.44     14498\n",
      "  samples avg       0.03      0.03      0.02     14498\n",
      "\n",
      "Epoch: 5 Train_Loss: 0.15343500920929587 Train_Accuracy: 0.9703601002693176\n",
      "Epoch: 5 Test_Loss: 0.18466567614674567 Test_Accuracy: 0.9653344750404358\n"
     ]
    },
    {
     "output_type": "display_data",
     "data": {
      "text/plain": [
       "<Figure size 432x288 with 2 Axes>"
      ],
      "image/png": "[encoded data removed]"
     },
     "metadata": {
      "needs_background": "light"
     }
    },
    {
     "output_type": "stream",
     "name": "stdout",
     "text": [
      "               precision    recall  f1-score   support\n",
      "\n",
      "        toxic       0.78      0.28      0.41      6090\n",
      " severe_toxic       0.27      0.51      0.35       367\n",
      "      obscene       0.78      0.31      0.45      3691\n",
      "       threat       0.15      0.41      0.23       211\n",
      "       insult       0.73      0.28      0.40      3427\n",
      "identity_hate       0.27      0.16      0.20       712\n",
      "\n",
      "    micro avg       0.63      0.29      0.40     14498\n",
      "    macro avg       0.50      0.33      0.34     14498\n",
      " weighted avg       0.72      0.29      0.40     14498\n",
      "  samples avg       0.02      0.02      0.02     14498\n",
      "\n",
      "Epoch: 6 Train_Loss: 0.14766655997253764 Train_Accuracy: 0.9712437391281128\n",
      "Epoch: 6 Test_Loss: 0.18880696111917497 Test_Accuracy: 0.9667672514915466\n"
     ]
    },
    {
     "output_type": "display_data",
     "data": {
      "text/plain": [
       "<Figure size 432x288 with 2 Axes>"
      ],
      "image/png": "[encoded data removed]"
     },
     "metadata": {
      "needs_background": "light"
     }
    },
    {
     "output_type": "stream",
     "name": "stdout",
     "text": [
      "               precision    recall  f1-score   support\n",
      "\n",
      "        toxic       0.73      0.36      0.48      6090\n",
      " severe_toxic       0.22      0.59      0.32       367\n",
      "      obscene       0.74      0.39      0.51      3691\n",
      "       threat       0.18      0.54      0.26       211\n",
      "       insult       0.69      0.36      0.47      3427\n",
      "identity_hate       0.25      0.19      0.22       712\n",
      "\n",
      "    micro avg       0.60      0.37      0.45     14498\n",
      "    macro avg       0.47      0.40      0.38     14498\n",
      " weighted avg       0.68      0.37      0.47     14498\n",
      "  samples avg       0.03      0.03      0.03     14498\n",
      "\n",
      "Epoch: 7 Train_Loss: 0.14214728075939304 Train_Accuracy: 0.9721221327781677\n",
      "Epoch: 7 Test_Loss: 0.17761254441738128 Test_Accuracy: 0.9667229652404785\n"
     ]
    },
    {
     "output_type": "display_data",
     "data": {
      "text/plain": [
       "<Figure size 432x288 with 2 Axes>"
      ],
      "image/png": "[encoded data removed]"
     },
     "metadata": {
      "needs_background": "light"
     }
    }
   ],
   "source": [
    "from IPython.display import clear_output\n",
    "from sklearn.metrics import classification_report\n",
    "import warnings\n",
    "warnings.filterwarnings('ignore')\n",
    "weights = []\n",
    "for cls in classes:\n",
    "    w = len(df) /df[cls].sum()\n",
    "    weights.append(w)\n",
    "loss_fn = torch.nn.BCEWithLogitsLoss(pos_weight = torch.tensor(weight_set))\n",
    "# loss_fn = nn.BCEWithLogitsLoss(pos_weight=torch.tensor(weights))\n",
    "# loss_fn = torch.nn.BCEWithLogitsLoss(pos_weight = torch.tensor((175796 - 35098*2) / 35098*2))\n",
    "model = TextClassificationModel(pretrained_embeddings, len(classes), hidden_size=128)\n",
    "gpus = torch.cuda.device_count()\n",
    "device = torch.device(\"cuda:0\" if torch.cuda.is_available() else \"cpu\")\n",
    "\n",
    "if gpus > 1:\n",
    "    print(\"Let's use\", gpus, \"GPUs!\")\n",
    "    # model = torch.nn.DataParallel(model)    # multi-gpu\n",
    "\n",
    "loss_fn.to(device)\n",
    "model.to(device)\n",
    "optimizer = AdamW(model.parameters(), lr=4e-5, weight_decay=0.0001)\n",
    "\n",
    "epochs = 50\n",
    "\n",
    "training_losses = [ None for i in range(epochs)]\n",
    "test_losses = [ None for i in range(epochs)]\n",
    "epoch_count = [i for i in range(1, epochs+1)]\n",
    "recalls = [ None for i in range(epochs)]\n",
    "precisions = [ None for i in range(epochs)]\n",
    "accuracys = [ None for i in range(epochs)]\n",
    "for e in range(epochs):\n",
    "    model.train()\n",
    "    epoch_loss = 0\n",
    "\n",
    "    losses = []\n",
    "    correct_predictions = 0\n",
    "    for batch_id, batch in enumerate(train_dataloader):\n",
    "\n",
    "        ids = batch['indices'].to(device)\n",
    "        #print('ids: ', ids.shape)\n",
    "        labels = batch['labels'].to(device)\n",
    "        optimizer.zero_grad()\n",
    "        outputs = model(ids)\n",
    "        probs = torch.sigmoid(outputs)\n",
    "        preds = torch.where(outputs > 0.5, 1, 0)\n",
    "        loss = loss_fn(outputs, labels)\n",
    "        #print('loss: ', loss)\n",
    "\n",
    "        correct_predictions += torch.sum(preds == labels)\n",
    "\n",
    "        loss.backward()\n",
    "        optimizer.step()\n",
    "        # if batch_id % 100 == 0:\n",
    "            # print('Epoch: {} Batch: {} Loss: {}'.format(e, batch_id, loss.item()))\n",
    "            #print(loss.grad_fn)\n",
    "\n",
    "        losses.append(loss.item())\n",
    "\n",
    "    epoch_loss = np.mean(losses)\n",
    "\n",
    "    training_losses[e] = epoch_loss\n",
    "    train_accuracy = correct_predictions/(len(df)*6)\n",
    "\n",
    "\n",
    "    if e % 3000 == 0 and e != 0:\n",
    "        torch.save(model.state_dict(), 'model_epoch_{}.pt'.format(e))\n",
    "\n",
    "    ## Evaluate on test set\n",
    "    with torch.no_grad():\n",
    "        model.eval()\n",
    "        test_loss = []\n",
    "        test_correct_predictions = 0\n",
    "        predictions_store = []\n",
    "        labels_store = []\n",
    "\n",
    "        for batch_id, batch in enumerate(test_dataloader):\n",
    "            ids = batch['indices'].to(device)\n",
    "            labels = batch['labels'].to(device)\n",
    "\n",
    "            outputs = model(ids)\n",
    "\n",
    "            probs = torch.sigmoid(outputs)\n",
    "            preds = torch.where(outputs > 0.5, 1, 0)\n",
    "            loss = loss_fn(outputs, labels)\n",
    "\n",
    "            test_correct_predictions += torch.sum(preds == labels)\n",
    "            test_loss.append(loss.item())\n",
    "\n",
    "            labels = labels.to(torch.device(\"cpu\")).numpy()\n",
    "            preds = preds.to(torch.device(\"cpu\")).numpy()\n",
    "            for i in range(len(preds)):\n",
    "                predictions_store.append(preds[i])\n",
    "                labels_store.append(labels[i])\n",
    "\n",
    "        # print(pred_counter, label_counter)\n",
    "        test_loss = np.mean(test_loss)\n",
    "        accuracy = test_correct_predictions/(len(test_dataset)*6)\n",
    "        test_losses[e] = test_loss\n",
    "\n",
    "        rp = classification_report(labels_store, predictions_store, target_names=classes)\n",
    "        print(rp)\n",
    "        print('Epoch: {} Train_Loss: {} Train_Accuracy: {}'.format(e, epoch_loss, train_accuracy))\n",
    "        print('Epoch: {} Test_Loss: {} Test_Accuracy: {}'.format(e, test_loss, accuracy))\n",
    "\n",
    "        fig, (ax1, ax2) = plt.subplots(1, 2)\n",
    "\n",
    "        ax1.plot(epoch_count, training_losses, 'r', label='Training Loss')\n",
    "        ax1.plot(epoch_count, test_losses, 'b', label='Test Loss')\n",
    "        ax1.legend(loc=\"upper left\")\n",
    "\n",
    "        plt.show()\n",
    "\n",
    "\n",
    "\n"
   ]
  },
  {
   "cell_type": "code",
   "execution_count": null,
   "metadata": {
    "id": "Hpxb2rmV4wke",
    "pycharm": {
     "name": "#%%\n"
    }
   },
   "outputs": [],
   "source": [
    "        print('Epoch: {} Train_Loss: {} Train_Accuracy: {}'.format(e, epoch_loss, train_accuracy))\n",
    "        print('Epoch: {} Test_Loss: {} Test_Accuracy: {} Recall: {} Precision: {}'.format(e, test_loss, accuracy, recall_score, precision_score))\n",
    "        fig, (ax1, ax2) = plt.subplots(1, 2)\n",
    "\n",
    "        ax1.plot(epoch_count, training_losses, 'r', label='Training Loss')\n",
    "        ax1.plot(epoch_count, test_losses, 'b', label='Test Loss')\n",
    "        ax1.legend(loc=\"upper left\")\n",
    "\n",
    "\n",
    "        ax2.plot(epoch_count, recalls, 'g', label='Recall')\n",
    "        ax2.legend(loc=\"upper left\")\n",
    "\n",
    "        plt.show()"
   ]
  },
  {
   "cell_type": "code",
   "execution_count": null,
   "metadata": {
    "id": "o5hwVVyQ4wke",
    "pycharm": {
     "name": "#%%\n"
    }
   },
   "outputs": [],
   "source": [
    "probs = torch.sigmoid(logits)\n",
    "print(probs)"
   ]
  },
  {
   "cell_type": "code",
   "execution_count": null,
   "metadata": {
    "id": "VjlYmK4-4wkf",
    "pycharm": {
     "name": "#%%\n"
    }
   },
   "outputs": [],
   "source": []
  },
  {
   "cell_type": "code",
   "execution_count": null,
   "metadata": {
    "id": "HWFvKCAe4wkf",
    "pycharm": {
     "name": "#%%\n"
    }
   },
   "outputs": [],
   "source": []
  },
  {
   "cell_type": "code",
   "execution_count": null,
   "metadata": {
    "id": "z3X5AFXz4wkf",
    "pycharm": {
     "name": "#%%\n"
    }
   },
   "outputs": [],
   "source": []
  },
  {
   "cell_type": "code",
   "execution_count": null,
   "metadata": {
    "id": "m7oFPwcm4wkf",
    "pycharm": {
     "name": "#%%\n"
    }
   },
   "outputs": [],
   "source": []
  }
 ],
 "metadata": {
  "accelerator": "GPU",
  "colab": {
   "collapsed_sections": [],
   "name": "glove_bi-lstm_torchtext_muti.ipynb",
   "provenance": []
  },
  "gpuClass": "standard",
  "kernelspec": {
   "display_name": "Python 3 (ipykernel)",
   "language": "python",
   "name": "python3"
  },
  "language_info": {
   "codemirror_mode": {
    "name": "ipython",
    "version": 3
   },
   "file_extension": ".py",
   "mimetype": "text/x-python",
   "name": "python",
   "nbconvert_exporter": "python",
   "pygments_lexer": "ipython3",
   "version": "3.9.7"
  }
 },
 "nbformat": 4,
 "nbformat_minor": 0
}