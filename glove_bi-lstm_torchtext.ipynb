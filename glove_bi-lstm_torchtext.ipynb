{
 "cells": [
  {
   "cell_type": "code",
   "execution_count": 5,
   "metadata": {
    "pycharm": {
     "name": "#%%\n"
    }
   },
   "outputs": [],
   "source": [
    "import re\n",
    "import numpy as np\n",
    "import pandas as pd\n",
    "import matplotlib.pyplot as plt\n",
    "import torch\n",
    "import torch.nn as nn\n",
    "from torch.utils.data import Dataset, DataLoader\n",
    "import sklearn\n",
    "from sklearn.model_selection import train_test_split\n",
    "import os"
   ]
  },
  {
   "cell_type": "code",
   "execution_count": 6,
   "metadata": {
    "pycharm": {
     "name": "#%%\n"
    }
   },
   "outputs": [],
   "source": [
    "def data_cleaning(text):\n",
    "    # 大小写\n",
    "    text = text.replace('\\n', ' ')\n",
    "    text = text.replace('\\r', ' ')\n",
    "    text = text.replace('\\t', ' ')\n",
    "    text = text.replace(\"#\" , \" \")\n",
    "    text = text.replace(\".\" , \"\")\n",
    "    text = text.replace(\"%\", \"\")\n",
    "\n",
    "\n",
    "\n",
    "    text = re.sub('https?://[A-Za-z0-9./]+', '', text)\n",
    "    text = re.sub('http?://[A-Za-z0-9./]+', '', text)\n",
    "    text = re.sub('www.[A-Za-z0-9./]+', '', text)\n",
    "    text = re.sub(\"\\d+\", \"\", text)\n",
    "    text = re.sub(\"!+\", \"!\", text)\n",
    "\n",
    "#     text = '!'.join(unique_list(text.split('!')))\n",
    "    text = re.sub(r'((\\b\\w+\\b.{1,2}\\w+\\b)+).+\\1', r'\\1', text, flags = re.I)\n",
    "    encoded_string = text.encode(\"ascii\", \"ignore\")\n",
    "    decode_string = encoded_string.decode()\n",
    "    return decode_string"
   ]
  },
  {
   "cell_type": "code",
   "execution_count": 7,
   "metadata": {
    "pycharm": {
     "name": "#%%\n"
    }
   },
   "outputs": [
    {
     "name": "stdout",
     "output_type": "stream",
     "text": [
      "/storage-6T/yunrui/comp9444/toxic-comment-classification\r\n"
     ]
    }
   ],
   "source": [
    "!pwd\n",
    "data_folder_path = './data/'\n",
    "df = pd.read_csv(data_folder_path + 'train.csv')\n",
    "test_text = pd.read_csv(data_folder_path + 'test.csv')\n",
    "test_label = pd.read_csv(data_folder_path + 'test_labels.csv')\n",
    "test_df = pd.concat([test_text, test_label], axis=1)\n",
    "classes = ['toxic', 'severe_toxic', 'obscene', 'threat', 'insult', 'identity_hate']"
   ]
  },
  {
   "cell_type": "code",
   "execution_count": 8,
   "metadata": {
    "pycharm": {
     "name": "#%%\n"
    }
   },
   "outputs": [],
   "source": [
    "df['comment_text'] = df['comment_text'].apply(data_cleaning)\n",
    "test_df['comment_text'] = test_df['comment_text'].apply(data_cleaning)"
   ]
  },
  {
   "cell_type": "code",
   "execution_count": 9,
   "metadata": {
    "pycharm": {
     "name": "#%%\n"
    }
   },
   "outputs": [
    {
     "data": {
      "text/html": [
       "<div>\n",
       "<style scoped>\n",
       "    .dataframe tbody tr th:only-of-type {\n",
       "        vertical-align: middle;\n",
       "    }\n",
       "\n",
       "    .dataframe tbody tr th {\n",
       "        vertical-align: top;\n",
       "    }\n",
       "\n",
       "    .dataframe thead th {\n",
       "        text-align: right;\n",
       "    }\n",
       "</style>\n",
       "<table border=\"1\" class=\"dataframe\">\n",
       "  <thead>\n",
       "    <tr style=\"text-align: right;\">\n",
       "      <th></th>\n",
       "      <th>id</th>\n",
       "      <th>comment_text</th>\n",
       "      <th>id</th>\n",
       "      <th>toxic</th>\n",
       "      <th>severe_toxic</th>\n",
       "      <th>obscene</th>\n",
       "      <th>threat</th>\n",
       "      <th>insult</th>\n",
       "      <th>identity_hate</th>\n",
       "    </tr>\n",
       "  </thead>\n",
       "  <tbody>\n",
       "    <tr>\n",
       "      <th>5</th>\n",
       "      <td>0001ea8717f6de06</td>\n",
       "      <td>Thank you for understanding I think very highl...</td>\n",
       "      <td>0001ea8717f6de06</td>\n",
       "      <td>0</td>\n",
       "      <td>0</td>\n",
       "      <td>0</td>\n",
       "      <td>0</td>\n",
       "      <td>0</td>\n",
       "      <td>0</td>\n",
       "    </tr>\n",
       "    <tr>\n",
       "      <th>7</th>\n",
       "      <td>000247e83dcc1211</td>\n",
       "      <td>:Dear god this site is horrible</td>\n",
       "      <td>000247e83dcc1211</td>\n",
       "      <td>0</td>\n",
       "      <td>0</td>\n",
       "      <td>0</td>\n",
       "      <td>0</td>\n",
       "      <td>0</td>\n",
       "      <td>0</td>\n",
       "    </tr>\n",
       "    <tr>\n",
       "      <th>11</th>\n",
       "      <td>0002f87b16116a7f</td>\n",
       "      <td>\"::: Somebody will invariably try to add Relig...</td>\n",
       "      <td>0002f87b16116a7f</td>\n",
       "      <td>0</td>\n",
       "      <td>0</td>\n",
       "      <td>0</td>\n",
       "      <td>0</td>\n",
       "      <td>0</td>\n",
       "      <td>0</td>\n",
       "    </tr>\n",
       "    <tr>\n",
       "      <th>13</th>\n",
       "      <td>0003e1cccfd5a40a</td>\n",
       "      <td>\"    It says it even in Binghamton University,...</td>\n",
       "      <td>0003e1cccfd5a40a</td>\n",
       "      <td>0</td>\n",
       "      <td>0</td>\n",
       "      <td>0</td>\n",
       "      <td>0</td>\n",
       "      <td>0</td>\n",
       "      <td>0</td>\n",
       "    </tr>\n",
       "    <tr>\n",
       "      <th>14</th>\n",
       "      <td>00059ace3e3e9a53</td>\n",
       "      <td>\"    == Before adding a new product to the lis...</td>\n",
       "      <td>00059ace3e3e9a53</td>\n",
       "      <td>0</td>\n",
       "      <td>0</td>\n",
       "      <td>0</td>\n",
       "      <td>0</td>\n",
       "      <td>0</td>\n",
       "      <td>0</td>\n",
       "    </tr>\n",
       "  </tbody>\n",
       "</table>\n",
       "</div>"
      ],
      "text/plain": [
       "                  id                                       comment_text  \\\n",
       "5   0001ea8717f6de06  Thank you for understanding I think very highl...   \n",
       "7   000247e83dcc1211                    :Dear god this site is horrible   \n",
       "11  0002f87b16116a7f  \"::: Somebody will invariably try to add Relig...   \n",
       "13  0003e1cccfd5a40a  \"    It says it even in Binghamton University,...   \n",
       "14  00059ace3e3e9a53  \"    == Before adding a new product to the lis...   \n",
       "\n",
       "                  id  toxic  severe_toxic  obscene  threat  insult  \\\n",
       "5   0001ea8717f6de06      0             0        0       0       0   \n",
       "7   000247e83dcc1211      0             0        0       0       0   \n",
       "11  0002f87b16116a7f      0             0        0       0       0   \n",
       "13  0003e1cccfd5a40a      0             0        0       0       0   \n",
       "14  00059ace3e3e9a53      0             0        0       0       0   \n",
       "\n",
       "    identity_hate  \n",
       "5               0  \n",
       "7               0  \n",
       "11              0  \n",
       "13              0  \n",
       "14              0  "
      ]
     },
     "execution_count": 9,
     "metadata": {},
     "output_type": "execute_result"
    }
   ],
   "source": [
    "test_df[0:20]\n",
    "ids_to_drop = []\n",
    "for i in range(len(test_df)):\n",
    "    if test_df['toxic'][i] == -1 or test_df['severe_toxic'][i] == -1 or test_df['obscene'][i] == -1 or test_df['threat'][i] == -1 or test_df['insult'][i] == -1 or test_df['identity_hate'][i] == -1:\n",
    "        ids_to_drop.append(i)\n",
    "\n",
    "test_df = test_df.drop(ids_to_drop)\n",
    "\n",
    "test_df.head()"
   ]
  },
  {
   "cell_type": "code",
   "execution_count": 11,
   "metadata": {
    "pycharm": {
     "name": "#%%\n"
    }
   },
   "outputs": [],
   "source": [
    "from torchtext.data.utils import get_tokenizer\n",
    "from torchtext.vocab import build_vocab_from_iterator"
   ]
  },
  {
   "cell_type": "code",
   "execution_count": null,
   "metadata": {
    "pycharm": {
     "name": "#%%\n"
    }
   },
   "outputs": [],
   "source": []
  },
  {
   "cell_type": "code",
   "execution_count": null,
   "metadata": {
    "pycharm": {
     "name": "#%%\n"
    }
   },
   "outputs": [],
   "source": []
  },
  {
   "cell_type": "code",
   "execution_count": 12,
   "metadata": {
    "pycharm": {
     "name": "#%%\n"
    }
   },
   "outputs": [
    {
     "name": "stderr",
     "output_type": "stream",
     "text": [
      ".vector_cache/glove.twitter.27B.zip: 1.52GB [05:03, 5.02MB/s]                                       \n",
      "100%|█████████████████████████████████████████████████▉| 1193513/1193514 [00:44<00:00, 26713.68it/s]\n"
     ]
    },
    {
     "name": "stdout",
     "output_type": "stream",
     "text": [
      "1193514\n",
      "torch.Size([1193515, 200])\n"
     ]
    }
   ],
   "source": [
    "from torchtext.vocab import GloVe, vocab\n",
    "\n",
    "unk_token = \"<pad>\"\n",
    "unk_index = 0\n",
    "#name = \"vector_cache\"\n",
    "\n",
    "\n",
    "if os.path.isdir(\"./.vector_cache\"):\n",
    "    \n",
    "glove_vectors = GloVe('twitter.27B', dim=200)\n",
    "print(len(glove_vectors.stoi))\n",
    "glove_vocab = vocab(glove_vectors.stoi)\n",
    "glove_vocab.insert_token(\"<pad>\",unk_index)\n",
    "#this is necessary otherwise it will throw runtime error if OOV token is queried\n",
    "glove_vocab.set_default_index(unk_index)\n",
    "pretrained_embeddings = glove_vectors.vectors\n",
    "pretrained_embeddings = torch.cat((torch.zeros(1,pretrained_embeddings.shape[1]),pretrained_embeddings))\n",
    "print(pretrained_embeddings.shape)\n"
   ]
  },
  {
   "cell_type": "code",
   "execution_count": 25,
   "metadata": {},
   "outputs": [
    {
     "data": {
      "text/plain": [
       "<torchtext.vocab.vectors.GloVe at 0x7f0faf7e5dc0>"
      ]
     },
     "execution_count": 25,
     "metadata": {},
     "output_type": "execute_result"
    }
   ],
   "source": [
    "\n",
    "f = GloVe(name = 'twitter.27B', cache = './.vector_cache', dim=200)\n",
    "print(len(glove_vectors.stoi))"
   ]
  },
  {
   "cell_type": "code",
   "execution_count": 13,
   "metadata": {
    "pycharm": {
     "name": "#%%\n"
    }
   },
   "outputs": [],
   "source": [
    "from torch.utils.data import IterableDataset\n",
    "\n",
    "tokenizer = get_tokenizer(\"basic_english\")\n",
    "\n",
    "\n",
    "class MyDataset(Dataset):\n",
    "\n",
    "    def __init__(self, dataframe, max_len=100, pad_token='<pad>'):\n",
    "         self.X = dataframe['comment_text'].values\n",
    "         self.Y = dataframe[classes].to_numpy()\n",
    "         self.max_len = max_len\n",
    "         self.pad_token = pad_token\n",
    "         # self.unk_token = unk_token\n",
    "\n",
    "    def __len__(self):\n",
    "        return len(self.X)\n",
    "\n",
    "    def __getitem__(self, idx):\n",
    "        t = idx\n",
    "        tokens = tokenizer(self.X[t])[:self.max_len]\n",
    "\n",
    "        diff = self.max_len - len(tokens)\n",
    "        # print('diff',diff)\n",
    "        if diff > 0:\n",
    "            tokens += [self.pad_token] * diff\n",
    "            # print('tokens',to\n",
    "        indices = glove_vocab(tokens)\n",
    "        result = {\n",
    "            'text': tokens,\n",
    "            'indices': torch.tensor(indices),\n",
    "            'labels': torch.tensor(self.Y[t], dtype=torch.float)\n",
    "        }\n",
    "        return result\n"
   ]
  },
  {
   "cell_type": "code",
   "execution_count": null,
   "metadata": {
    "pycharm": {
     "name": "#%%\n"
    }
   },
   "outputs": [],
   "source": [
    "MAX_LEN = 100\n",
    "train_dataset = MyDataset(df, MAX_LEN)\n",
    "test_dataset = MyDataset(test_df, MAX_LEN)"
   ]
  },
  {
   "cell_type": "code",
   "execution_count": null,
   "metadata": {
    "pycharm": {
     "name": "#%%\n"
    }
   },
   "outputs": [],
   "source": []
  },
  {
   "cell_type": "code",
   "execution_count": null,
   "metadata": {
    "pycharm": {
     "name": "#%%\n"
    }
   },
   "outputs": [],
   "source": [
    "for data in test_dataset:\n",
    "    print(data['text'])\n",
    "    print(data['labels'])\n",
    "    print(data['indices'])\n",
    "    break"
   ]
  },
  {
   "cell_type": "code",
   "execution_count": 11,
   "metadata": {
    "pycharm": {
     "name": "#%%\n"
    }
   },
   "outputs": [],
   "source": [
    "\n"
   ]
  },
  {
   "cell_type": "code",
   "execution_count": 11,
   "metadata": {
    "pycharm": {
     "name": "#%%\n"
    }
   },
   "outputs": [],
   "source": []
  },
  {
   "cell_type": "code",
   "execution_count": 64,
   "metadata": {
    "pycharm": {
     "name": "#%%\n"
    }
   },
   "outputs": [],
   "source": [
    "\n",
    "\n",
    "class TextClassificationModel(nn.Module):\n",
    "\n",
    "    def __init__(self, pretrained_embeddings, num_class, hidden_size, freeze_embeddings = True):\n",
    "        super(TextClassificationModel, self).__init__()\n",
    "        self.hidden_size = hidden_size\n",
    "        self.embedding = nn.Embedding.from_pretrained(pretrained_embeddings, freeze = freeze_embeddings, sparse=False)\n",
    "\n",
    "        # print(pretrained_embeddings.shape)\n",
    "\n",
    "        self.lstm = nn.LSTM(pretrained_embeddings.shape[1], hidden_size, num_layers=2, bidirectional=True, dropout=0.5)\n",
    "        self.fc1 = nn.Linear(hidden_size * 4, hidden_size * 2)\n",
    "        self.fc2 = nn.Linear(hidden_size * 2, num_class)\n",
    "        self.sigmoid = nn.Sigmoid()\n",
    "        self.dropout = nn.Dropout(p=0.2)\n",
    "\n",
    "    #def attention_net(self, lstm_output):\n",
    "    #    attn_weight_matrix = self.W_s2(torch.tanh(self.W_s1(lstm_output)))\n",
    "    #    attn_weight_matrix = attn_weight_matrix.permute(0, 2, 1)\n",
    "    #    attn_weight_matrix = nn.functional.softmax(attn_weight_matrix, dim=2)\n",
    "    #    return attn_weight_matrix\n",
    "\n",
    "    def forward(self, indices):\n",
    "        #print('input', indices.shape)\n",
    "\n",
    "        embedded = self.embedding(indices.T)\n",
    "        #print('embedded', embedded.shape)\n",
    "        self.lstm.flatten_parameters()\n",
    "        lstm_out, _ = self.lstm(embedded)\n",
    "\n",
    "        encoding = torch.cat((lstm_out[0], lstm_out[-1]), dim=1)\n",
    "\n",
    "        out = self.fc1(encoding)\n",
    "        out = self.dropout(out)\n",
    "        out = self.fc2(out)\n",
    "\n",
    "        #print('output', out.shape)\n",
    "\n",
    "\n",
    "        #out = self.sigmoid(out)\n",
    "        #print('out', out)\n",
    "\n",
    "        return out"
   ]
  },
  {
   "cell_type": "code",
   "execution_count": 64,
   "metadata": {
    "pycharm": {
     "name": "#%%\n"
    }
   },
   "outputs": [],
   "source": []
  },
  {
   "cell_type": "code",
   "execution_count": 64,
   "metadata": {
    "pycharm": {
     "name": "#%%\n"
    }
   },
   "outputs": [],
   "source": []
  },
  {
   "cell_type": "code",
   "execution_count": 65,
   "metadata": {
    "pycharm": {
     "name": "#%%\n"
    }
   },
   "outputs": [],
   "source": [
    "## OK let's try to run this model to see if dimensions are correct!\n",
    "#glove_model = TextClassificationModel(pretrained_embeddings, len(classes), hidden_size=64, is_batch=False)\n",
    "\n",
    "#for idx, data in enumerate(train_dataset):\n",
    "#    print(\"---------------------------------\")\n",
    "#    print('next example id ', idx)\n",
    "#    print(\"---------------------------------\")\n",
    "#    # example_text = data['text']\n",
    "#    text_input = data['indices']\n",
    "    # print('tensor_shape: ', text_input.shape)\n",
    "#    model_output = glove_model(text_input)\n",
    "    # fwd = glove_model.forward(text_input)\n",
    "    # print('embedding_bag: ',  fwd.shape)\n",
    "    # print('output_shape: ', model_output.shape)\n",
    "#    print('output: ', model_output)\n",
    "\n",
    "    #if idx == 2:\n",
    "#    break"
   ]
  },
  {
   "cell_type": "code",
   "execution_count": 65,
   "metadata": {
    "pycharm": {
     "name": "#%%\n"
    }
   },
   "outputs": [],
   "source": []
  },
  {
   "cell_type": "code",
   "execution_count": 66,
   "metadata": {
    "pycharm": {
     "name": "#%%\n"
    }
   },
   "outputs": [],
   "source": [
    "from torch.utils.data import DataLoader\n",
    "\n",
    "\n",
    "BATCH_SIZE = 3072\n",
    "\n",
    "train_dataloader = DataLoader(train_dataset, batch_size=BATCH_SIZE, shuffle=True)\n",
    "test_dataloader = DataLoader(test_dataset, batch_size=BATCH_SIZE, shuffle=False)"
   ]
  },
  {
   "cell_type": "code",
   "execution_count": 67,
   "metadata": {
    "pycharm": {
     "name": "#%%\n"
    }
   },
   "outputs": [],
   "source": [
    "from torch.optim import AdamW\n",
    "from torch.optim.lr_scheduler import StepLR\n",
    "import matplotlib.pyplot as plt\n",
    "torch.set_grad_enabled(True)\n",
    "loss_fn = torch.nn.BCEWithLogitsLoss(pos_weight = torch.tensor((159571 - 35098) / 35098))\n"
   ]
  },
  {
   "cell_type": "code",
   "execution_count": 68,
   "metadata": {
    "pycharm": {
     "name": "#%%\n"
    }
   },
   "outputs": [
    {
     "name": "stdout",
     "output_type": "stream",
     "text": [
      "Epoch: 20 Train_Loss: 0.05549070323841312 Train_Accuracy: 0.9865754246711731\n",
      "Epoch: 20 Test_Loss: 0.23051100254058837 Test_Accuracy: 0.961161196231842 Recall: 0.7444475100013795\n"
     ]
    },
    {
     "data": {
      "image/png": "[encoded data removed]",
      "text/plain": [
       "<Figure size 432x288 with 2 Axes>"
      ]
     },
     "metadata": {
      "needs_background": "light"
     },
     "output_type": "display_data"
    },
    {
     "ename": "KeyboardInterrupt",
     "evalue": "",
     "output_type": "error",
     "traceback": [
      "\u001b[0;31m---------------------------------------------------------------------------\u001b[0m",
      "\u001b[0;31mKeyboardInterrupt\u001b[0m                         Traceback (most recent call last)",
      "Input \u001b[0;32mIn [68]\u001b[0m, in \u001b[0;36m<cell line: 14>\u001b[0;34m()\u001b[0m\n\u001b[1;32m     34\u001b[0m     optimizer\u001b[38;5;241m.\u001b[39mstep()\n\u001b[1;32m     35\u001b[0m     \u001b[38;5;66;03m# if batch_id % 100 == 0:\u001b[39;00m\n\u001b[1;32m     36\u001b[0m         \u001b[38;5;66;03m# print('Epoch: {} Batch: {} Loss: {}'.format(e, batch_id, loss.item()))\u001b[39;00m\n\u001b[1;32m     37\u001b[0m         \u001b[38;5;66;03m#print(loss.grad_fn)\u001b[39;00m\n\u001b[0;32m---> 39\u001b[0m     losses\u001b[38;5;241m.\u001b[39mappend(\u001b[43mloss\u001b[49m\u001b[38;5;241;43m.\u001b[39;49m\u001b[43mitem\u001b[49m\u001b[43m(\u001b[49m\u001b[43m)\u001b[49m)\n\u001b[1;32m     41\u001b[0m epoch_loss \u001b[38;5;241m=\u001b[39m np\u001b[38;5;241m.\u001b[39mmean(losses)\n\u001b[1;32m     43\u001b[0m training_losses[e] \u001b[38;5;241m=\u001b[39m epoch_loss\n",
      "\u001b[0;31mKeyboardInterrupt\u001b[0m: "
     ]
    }
   ],
   "source": [
    "from IPython.display import clear_output\n",
    "model = TextClassificationModel(pretrained_embeddings, len(classes), hidden_size=64)\n",
    "gpus = torch.cuda.device_count()\n",
    "device = torch.device(\"cuda:0\" if torch.cuda.is_available() else \"cpu\")\n",
    "\n",
    "if gpus > 1:\n",
    "    print(\"Let's use\", gpus, \"GPUs!\")\n",
    "    model = torch.nn.DataParallel(model)    # multi-gpu\n",
    "\n",
    "loss_fn.to(device)\n",
    "model.to(device)\n",
    "optimizer = AdamW(model.parameters(), lr=0.001, weight_decay=0.0001)\n",
    "\n",
    "epochs = 100\n",
    "\n",
    "training_losses = [ None for i in range(epochs)]\n",
    "test_losses = [ None for i in range(epochs)]\n",
    "epoch_count = [i for i in range(1, epochs+1)]\n",
    "recalls = [ None for i in range(epochs)]\n",
    "for e in range(epochs):\n",
    "    model.train()\n",
    "    epoch_loss = 0\n",
    "\n",
    "    losses = []\n",
    "    correct_predictions = 0\n",
    "    for batch_id, batch in enumerate(train_dataloader):\n",
    "\n",
    "        ids = batch['indices'].to(device)\n",
    "        #print('ids: ', ids.shape)\n",
    "        labels = batch['labels'].to(device)\n",
    "        optimizer.zero_grad()\n",
    "        outputs = model(ids)\n",
    "        #print('outputs: ', outputs)\n",
    "        preds = torch.where(outputs > 0.5, 1, 0)\n",
    "        loss = loss_fn(outputs, labels)\n",
    "\n",
    "        correct_predictions += torch.sum(preds == labels)\n",
    "\n",
    "        loss.backward()\n",
    "        optimizer.step()\n",
    "        # if batch_id % 100 == 0:\n",
    "            # print('Epoch: {} Batch: {} Loss: {}'.format(e, batch_id, loss.item()))\n",
    "            #print(loss.grad_fn)\n",
    "\n",
    "        losses.append(loss.item())\n",
    "\n",
    "    epoch_loss = np.mean(losses)\n",
    "\n",
    "    training_losses[e] = epoch_loss\n",
    "    train_accuracy = correct_predictions/(len(df)*6)\n",
    "\n",
    "\n",
    "    if e % 3000 == 0 and e != 0:\n",
    "        torch.save(model.state_dict(), 'model_epoch_{}.pt'.format(e))\n",
    "\n",
    "    ## Evaluate on test set\n",
    "    with torch.no_grad():\n",
    "        model.eval()\n",
    "        test_loss = []\n",
    "        test_correct_predictions = 0\n",
    "        label_counter = 0\n",
    "        pred_counter = 0\n",
    "\n",
    "        for batch_id, batch in enumerate(test_dataloader):\n",
    "            ids = batch['indices'].to(device)\n",
    "            labels = batch['labels'].to(device)\n",
    "\n",
    "            outputs = model(ids)\n",
    "            # print(outputs)\n",
    "\n",
    "            preds = torch.where(outputs > 0.5, 1, 0)\n",
    "            loss = loss_fn(outputs, labels)\n",
    "\n",
    "            test_correct_predictions += torch.sum(preds == labels)\n",
    "            test_loss.append(loss.item())\n",
    "\n",
    "            labels = labels.to(torch.device(\"cpu\")).numpy()\n",
    "            preds = preds.to(torch.device(\"cpu\")).numpy()\n",
    "            for row in range(len(labels)):\n",
    "                for col in range(len(labels[row])):\n",
    "                    if labels[row][col] == 1:\n",
    "                        label_counter += 1\n",
    "                        if preds[row][col] == 1:\n",
    "                            pred_counter += 1\n",
    "        # print(pred_counter, label_counter)\n",
    "        test_loss = np.mean(test_loss)\n",
    "        accuracy = test_correct_predictions/(len(test_dataset)*6)\n",
    "        recall_score = pred_counter / label_counter\n",
    "        recalls[e] = recall_score\n",
    "        test_losses[e] = test_loss\n",
    "\n",
    "        clear_output()\n",
    "        print('Epoch: {} Train_Loss: {} Train_Accuracy: {}'.format(e, epoch_loss, train_accuracy))\n",
    "        print('Epoch: {} Test_Loss: {} Test_Accuracy: {} Recall: {}'.format(e, test_loss, accuracy, recall_score))\n",
    "        fig, (ax1, ax2) = plt.subplots(1, 2)\n",
    "\n",
    "        ax1.plot(epoch_count, training_losses, 'r', label='Training Loss')\n",
    "        ax1.plot(epoch_count, test_losses, 'b', label='Test Loss')\n",
    "        ax1.legend(loc=\"upper left\")\n",
    "\n",
    "\n",
    "        ax2.plot(epoch_count, recalls, 'g', label='Recall')\n",
    "        ax2.legend(loc=\"upper left\")\n",
    "\n",
    "        plt.show()\n",
    "\n",
    "\n",
    "\n"
   ]
  },
  {
   "cell_type": "code",
   "execution_count": null,
   "metadata": {
    "pycharm": {
     "name": "#%%\n"
    }
   },
   "outputs": [],
   "source": []
  },
  {
   "cell_type": "code",
   "execution_count": 16,
   "metadata": {
    "pycharm": {
     "name": "#%%\n"
    }
   },
   "outputs": [],
   "source": []
  },
  {
   "cell_type": "code",
   "execution_count": 16,
   "metadata": {
    "pycharm": {
     "name": "#%%\n"
    }
   },
   "outputs": [],
   "source": []
  }
 ],
 "metadata": {
  "kernelspec": {
   "display_name": "Python 3 (ipykernel)",
   "language": "python",
   "name": "python3"
  },
  "language_info": {
   "codemirror_mode": {
    "name": "ipython",
    "version": 3
   },
   "file_extension": ".py",
   "mimetype": "text/x-python",
   "name": "python",
   "nbconvert_exporter": "python",
   "pygments_lexer": "ipython3",
   "version": "3.8.12"
  }
 },
 "nbformat": 4,
 "nbformat_minor": 1
}
